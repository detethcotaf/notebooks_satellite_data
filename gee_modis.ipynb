{
 "cells": [
  {
   "cell_type": "markdown",
   "id": "b3f5c55f",
   "metadata": {},
   "source": [
    "# GEEを使ったサンプル"
   ]
  },
  {
   "cell_type": "markdown",
   "id": "145f9e12-fad6-40bc-b10f-773d95146193",
   "metadata": {},
   "source": [
    "MODISデータを触ってみる"
   ]
  },
  {
   "cell_type": "markdown",
   "id": "daf06056-2d21-4d63-bd33-a479cd689c80",
   "metadata": {},
   "source": [
    "参考：https://developers.google.com/earth-engine/tutorials/community/intro-to-python-api"
   ]
  },
  {
   "cell_type": "code",
   "execution_count": 2,
   "id": "7eb8d102-a47d-4d9e-b939-b8727407e956",
   "metadata": {
    "collapsed": true,
    "jupyter": {
     "outputs_hidden": true
    },
    "tags": []
   },
   "outputs": [
    {
     "name": "stdout",
     "output_type": "stream",
     "text": [
      "Collecting earthengine-api\n",
      "  Downloading earthengine-api-0.1.318.tar.gz (242 kB)\n",
      "\u001b[2K     \u001b[90m━━━━━━━━━━━━━━━━━━━━━━━━━━━━━━━━━━━━━━━\u001b[0m \u001b[32m242.0/242.0 KB\u001b[0m \u001b[31m6.3 MB/s\u001b[0m eta \u001b[36m0:00:00\u001b[0ma \u001b[36m0:00:01\u001b[0m\n",
      "\u001b[?25h  Preparing metadata (setup.py) ... \u001b[?25ldone\n",
      "\u001b[?25hCollecting future\n",
      "  Downloading future-0.18.2.tar.gz (829 kB)\n",
      "\u001b[2K     \u001b[90m━━━━━━━━━━━━━━━━━━━━━━━━━━━━━━━━━━━━━━━\u001b[0m \u001b[32m829.2/829.2 KB\u001b[0m \u001b[31m9.8 MB/s\u001b[0m eta \u001b[36m0:00:00\u001b[0ma \u001b[36m0:00:01\u001b[0m\n",
      "\u001b[?25h  Preparing metadata (setup.py) ... \u001b[?25ldone\n",
      "\u001b[?25hCollecting google-cloud-storage\n",
      "  Downloading google_cloud_storage-2.5.0-py2.py3-none-any.whl (106 kB)\n",
      "\u001b[2K     \u001b[90m━━━━━━━━━━━━━━━━━━━━━━━━━━━━━━━━━━━━━━━\u001b[0m \u001b[32m107.0/107.0 KB\u001b[0m \u001b[31m5.4 MB/s\u001b[0m eta \u001b[36m0:00:00\u001b[0m\n",
      "\u001b[?25hCollecting google-api-python-client<2,>=1.12.1\n",
      "  Downloading google_api_python_client-1.12.11-py2.py3-none-any.whl (62 kB)\n",
      "\u001b[2K     \u001b[90m━━━━━━━━━━━━━━━━━━━━━━━━━━━━━━━━━━━━━━━━\u001b[0m \u001b[32m62.1/62.1 KB\u001b[0m \u001b[31m10.9 MB/s\u001b[0m eta \u001b[36m0:00:00\u001b[0m\n",
      "\u001b[?25hCollecting google-auth>=1.4.1\n",
      "  Downloading google_auth-2.10.0-py2.py3-none-any.whl (167 kB)\n",
      "\u001b[2K     \u001b[90m━━━━━━━━━━━━━━━━━━━━━━━━━━━━━━━━━━━━━━\u001b[0m \u001b[32m167.2/167.2 KB\u001b[0m \u001b[31m12.7 MB/s\u001b[0m eta \u001b[36m0:00:00\u001b[0m\n",
      "\u001b[?25hCollecting google-auth-httplib2>=0.0.3\n",
      "  Downloading google_auth_httplib2-0.1.0-py2.py3-none-any.whl (9.3 kB)\n",
      "Collecting httplib2<1dev,>=0.9.2\n",
      "  Downloading httplib2-0.20.4-py3-none-any.whl (96 kB)\n",
      "\u001b[2K     \u001b[90m━━━━━━━━━━━━━━━━━━━━━━━━━━━━━━━━━━━━━━━━\u001b[0m \u001b[32m96.6/96.6 KB\u001b[0m \u001b[31m12.2 MB/s\u001b[0m eta \u001b[36m0:00:00\u001b[0m\n",
      "\u001b[?25hCollecting httplib2shim\n",
      "  Downloading httplib2shim-0.0.3.tar.gz (17 kB)\n",
      "  Preparing metadata (setup.py) ... \u001b[?25ldone\n",
      "\u001b[?25hRequirement already satisfied: six in /usr/local/lib/python3.10/dist-packages (from earthengine-api) (1.16.0)\n",
      "Collecting google-api-core<3dev,>=1.21.0\n",
      "  Downloading google_api_core-2.8.2-py3-none-any.whl (114 kB)\n",
      "\u001b[2K     \u001b[90m━━━━━━━━━━━━━━━━━━━━━━━━━━━━━━━━━━━━━━\u001b[0m \u001b[32m114.6/114.6 KB\u001b[0m \u001b[31m10.4 MB/s\u001b[0m eta \u001b[36m0:00:00\u001b[0m\n",
      "\u001b[?25hCollecting uritemplate<4dev,>=3.0.0\n",
      "  Downloading uritemplate-3.0.1-py2.py3-none-any.whl (15 kB)\n",
      "Collecting cachetools<6.0,>=2.0.0\n",
      "  Downloading cachetools-5.2.0-py3-none-any.whl (9.3 kB)\n",
      "Collecting rsa<5,>=3.1.4\n",
      "  Downloading rsa-4.9-py3-none-any.whl (34 kB)\n",
      "Collecting pyasn1-modules>=0.2.1\n",
      "  Downloading pyasn1_modules-0.2.8-py2.py3-none-any.whl (155 kB)\n",
      "\u001b[2K     \u001b[90m━━━━━━━━━━━━━━━━━━━━━━━━━━━━━━━━━━━━━━━\u001b[0m \u001b[32m155.3/155.3 KB\u001b[0m \u001b[31m9.0 MB/s\u001b[0m eta \u001b[36m0:00:00\u001b[0m\n",
      "\u001b[?25hRequirement already satisfied: pyparsing!=3.0.0,!=3.0.1,!=3.0.2,!=3.0.3,<4,>=2.4.2 in /usr/local/lib/python3.10/dist-packages (from httplib2<1dev,>=0.9.2->earthengine-api) (3.0.9)\n",
      "Collecting google-resumable-media>=2.3.2\n",
      "  Downloading google_resumable_media-2.3.3-py2.py3-none-any.whl (76 kB)\n",
      "\u001b[2K     \u001b[90m━━━━━━━━━━━━━━━━━━━━━━━━━━━━━━━━━━━━━━━━\u001b[0m \u001b[32m76.9/76.9 KB\u001b[0m \u001b[31m12.4 MB/s\u001b[0m eta \u001b[36m0:00:00\u001b[0m\n",
      "\u001b[?25hRequirement already satisfied: requests<3.0.0dev,>=2.18.0 in /usr/local/lib/python3.10/dist-packages (from google-cloud-storage->earthengine-api) (2.28.1)\n",
      "Collecting google-cloud-core<3.0dev,>=2.3.0\n",
      "  Downloading google_cloud_core-2.3.2-py2.py3-none-any.whl (29 kB)\n",
      "Requirement already satisfied: urllib3 in /usr/local/lib/python3.10/dist-packages (from httplib2shim->earthengine-api) (1.26.11)\n",
      "Requirement already satisfied: certifi in /usr/local/lib/python3.10/dist-packages (from httplib2shim->earthengine-api) (2022.6.15)\n",
      "Collecting googleapis-common-protos<2.0dev,>=1.56.2\n",
      "  Downloading googleapis_common_protos-1.56.4-py2.py3-none-any.whl (211 kB)\n",
      "\u001b[2K     \u001b[90m━━━━━━━━━━━━━━━━━━━━━━━━━━━━━━━━━━━━━━\u001b[0m \u001b[32m211.7/211.7 KB\u001b[0m \u001b[31m12.0 MB/s\u001b[0m eta \u001b[36m0:00:00\u001b[0m\n",
      "\u001b[?25hCollecting protobuf<5.0.0dev,>=3.15.0\n",
      "  Downloading protobuf-4.21.5-cp37-abi3-manylinux2014_aarch64.whl (403 kB)\n",
      "\u001b[2K     \u001b[90m━━━━━━━━━━━━━━━━━━━━━━━━━━━━━━━━━━━━━━━\u001b[0m \u001b[32m403.7/403.7 KB\u001b[0m \u001b[31m9.8 MB/s\u001b[0m eta \u001b[36m0:00:00\u001b[0ma \u001b[36m0:00:01\u001b[0m\n",
      "\u001b[?25hCollecting google-crc32c<2.0dev,>=1.0\n",
      "  Downloading google_crc32c-1.3.0-cp310-cp310-manylinux_2_17_aarch64.manylinux2014_aarch64.whl (32 kB)\n",
      "Collecting pyasn1<0.5.0,>=0.4.6\n",
      "  Downloading pyasn1-0.4.8-py2.py3-none-any.whl (77 kB)\n",
      "\u001b[2K     \u001b[90m━━━━━━━━━━━━━━━━━━━━━━━━━━━━━━━━━━━━━━━━\u001b[0m \u001b[32m77.1/77.1 KB\u001b[0m \u001b[31m6.2 MB/s\u001b[0m eta \u001b[36m0:00:00\u001b[0m\n",
      "\u001b[?25hRequirement already satisfied: charset-normalizer<3,>=2 in /usr/local/lib/python3.10/dist-packages (from requests<3.0.0dev,>=2.18.0->google-cloud-storage->earthengine-api) (2.1.0)\n",
      "Requirement already satisfied: idna<4,>=2.5 in /usr/local/lib/python3.10/dist-packages (from requests<3.0.0dev,>=2.18.0->google-cloud-storage->earthengine-api) (3.3)\n",
      "Building wheels for collected packages: earthengine-api, future, httplib2shim\n",
      "  Building wheel for earthengine-api (setup.py) ... \u001b[?25ldone\n",
      "\u001b[?25h  Created wheel for earthengine-api: filename=earthengine_api-0.1.318-py3-none-any.whl size=271097 sha256=c58429d5f0f626456a3d47182cdeabbca7ee3aff4722060eab18d005f72a730b\n",
      "  Stored in directory: /root/.cache/pip/wheels/29/66/a5/94527b5a35d88702edfe949b6fea87ea4aaf98f0fd8ddf9b01\n",
      "  Building wheel for future (setup.py) ... \u001b[?25ldone\n",
      "\u001b[?25h  Created wheel for future: filename=future-0.18.2-py3-none-any.whl size=491070 sha256=907ae61b8e17295ad769d3177fa54da3034956ee21d68ba08241ae5515d69d00\n",
      "  Stored in directory: /root/.cache/pip/wheels/22/73/06/557dc4f4ef68179b9d763930d6eec26b88ed7c389b19588a1c\n",
      "  Building wheel for httplib2shim (setup.py) ... \u001b[?25ldone\n",
      "\u001b[?25h  Created wheel for httplib2shim: filename=httplib2shim-0.0.3-py2.py3-none-any.whl size=18057 sha256=c083c2df64508c0aa17ddccf80262eb7b7ac190d5392294d141b8bd580841171\n",
      "  Stored in directory: /root/.cache/pip/wheels/88/e5/dd/0096092515d7a3711c1bbc6c2ea1933a1fe1a62da93a6072a0\n",
      "Successfully built earthengine-api future httplib2shim\n",
      "Installing collected packages: pyasn1, uritemplate, rsa, pyasn1-modules, protobuf, httplib2, google-crc32c, future, cachetools, httplib2shim, googleapis-common-protos, google-resumable-media, google-auth, google-auth-httplib2, google-api-core, google-cloud-core, google-api-python-client, google-cloud-storage, earthengine-api\n",
      "Successfully installed cachetools-5.2.0 earthengine-api-0.1.318 future-0.18.2 google-api-core-2.8.2 google-api-python-client-1.12.11 google-auth-2.10.0 google-auth-httplib2-0.1.0 google-cloud-core-2.3.2 google-cloud-storage-2.5.0 google-crc32c-1.3.0 google-resumable-media-2.3.3 googleapis-common-protos-1.56.4 httplib2-0.20.4 httplib2shim-0.0.3 protobuf-4.21.5 pyasn1-0.4.8 pyasn1-modules-0.2.8 rsa-4.9 uritemplate-3.0.1\n",
      "\u001b[33mWARNING: Running pip as the 'root' user can result in broken permissions and conflicting behaviour with the system package manager. It is recommended to use a virtual environment instead: https://pip.pypa.io/warnings/venv\u001b[0m\u001b[33m\n",
      "\u001b[0m"
     ]
    }
   ],
   "source": [
    "!pip install earthengine-api"
   ]
  },
  {
   "cell_type": "code",
   "execution_count": 3,
   "id": "e138c153-f33a-4746-9046-b6fbc6b6a801",
   "metadata": {},
   "outputs": [],
   "source": [
    "import ee"
   ]
  },
  {
   "cell_type": "code",
   "execution_count": 4,
   "id": "ec8ff3c5-a2e7-4f4b-9948-619ad2d39263",
   "metadata": {},
   "outputs": [
    {
     "data": {
      "text/html": [
       "<p>To authorize access needed by Earth Engine, open the following\n",
       "        URL in a web browser and follow the instructions:</p>\n",
       "        <p><a href=https://code.earthengine.google.com/client-auth?scopes=https%3A//www.googleapis.com/auth/earthengine%20https%3A//www.googleapis.com/auth/devstorage.full_control&request_id=klhBiUSXzItR2GSQ29-mqVHmFQ1BtZySwnA8Xf3IOO8&tc=BlRoophM0y_gJdof8jD5GDAZx1i5EVDah_Sx3AwVpKo&cc=rNBOwm1R5DHidvrxzgl85K8YWj9JSOp0Tt-1wqk4770>https://code.earthengine.google.com/client-auth?scopes=https%3A//www.googleapis.com/auth/earthengine%20https%3A//www.googleapis.com/auth/devstorage.full_control&request_id=klhBiUSXzItR2GSQ29-mqVHmFQ1BtZySwnA8Xf3IOO8&tc=BlRoophM0y_gJdof8jD5GDAZx1i5EVDah_Sx3AwVpKo&cc=rNBOwm1R5DHidvrxzgl85K8YWj9JSOp0Tt-1wqk4770</a></p>\n",
       "        <p>The authorization workflow will generate a code, which you should paste in the box below.</p>\n",
       "        "
      ],
      "text/plain": [
       "<IPython.core.display.HTML object>"
      ]
     },
     "metadata": {},
     "output_type": "display_data"
    },
    {
     "name": "stdin",
     "output_type": "stream",
     "text": [
      "Enter verification code:  4/1AdQt8qhA0G9J1vDI59PLqCYKNN57OzBz7CXi6UuGMXtG__qAmQkntSYQf_w\n"
     ]
    },
    {
     "name": "stdout",
     "output_type": "stream",
     "text": [
      "\n",
      "Successfully saved authorization token.\n"
     ]
    }
   ],
   "source": [
    "ee.Authenticate()"
   ]
  },
  {
   "cell_type": "code",
   "execution_count": 5,
   "id": "a015e00a-f948-4969-bf7d-fe00e6963037",
   "metadata": {},
   "outputs": [],
   "source": [
    "# The initialization step verifies that valid credentials have been created and populates the Python client library with methods that the backend server supports.\n",
    "ee.Initialize()"
   ]
  },
  {
   "cell_type": "markdown",
   "id": "16b72fae-d8a1-4c4a-afb7-809f8d033783",
   "metadata": {},
   "source": [
    "# GEE data type\n",
    "In the Earth Engine Data Catalog, datasets can be of different types:\n",
    "\n",
    "- Features which are geometric objects with a list of properties. For example, a watershed with some properties such as name and area, is an `ee.Feature`.\n",
    "\n",
    "- Images which are like features, but may include several bands. For example, the ground elevation given by the USGS here is `an ee.Image`.\n",
    "\n",
    "- Collections which are groups of features or images. For example, the Global Administrative Unit Layers giving administrative boundaries is a `ee.FeatureCollection` and the MODIS Land Surface Temperature dataset is an `ee.ImageCollection`.\n",
    "\n",
    "The dataset descriptions provide us with all the information we need to import and manipulate these datasets:\n",
    "\n",
    "- the availability\n",
    "- the provider\n",
    "- the Earth Engine Snippet\n",
    "- the available bands associated with images in the collection\n",
    "\n",
    "更なる詳細は：https://developers.google.com/earth-engine\n",
    "\n",
    "\n",
    "利用可能なデータカタログは　https://developers.google.com/earth-engine/datasets/catalog/　で検索できる。各データセットの詳細ページにデータ取得のコマンドサンプルがあるためコピペするだけ。\n",
    "\n",
    "APIリファレンスは https://developers.google.com/earth-engine/api_docs"
   ]
  },
  {
   "cell_type": "code",
   "execution_count": 11,
   "id": "53c298f7-cac3-4fbf-804c-6d34c7fb7716",
   "metadata": {},
   "outputs": [],
   "source": [
    "# 見たい範囲を設定\n",
    "# Define the urban location of interest as a point near Lyon, France.\n",
    "u_lon = 4.8148\n",
    "u_lat = 45.7758\n",
    "u_poi = ee.Geometry.Point(u_lon, u_lat)\n",
    "\n",
    "# Define the rural location of interest as a point away from the city.\n",
    "r_lon = 5.175964\n",
    "r_lat = 45.574064\n",
    "r_poi = ee.Geometry.Point(r_lon, r_lat)"
   ]
  },
  {
   "cell_type": "markdown",
   "id": "1207202a-ee86-4dfd-85b9-99b62ab05cf9",
   "metadata": {},
   "source": [
    "データの読み込み"
   ]
  },
  {
   "cell_type": "code",
   "execution_count": 15,
   "id": "d3c8749b-5af4-4fd9-92d2-9ff22e1aec1d",
   "metadata": {},
   "outputs": [],
   "source": [
    "# Import the MODIS land cover collection.\n",
    "lc = ee.ImageCollection('MODIS/006/MCD12Q1')"
   ]
  },
  {
   "cell_type": "code",
   "execution_count": 16,
   "id": "25f5f8bb-98d1-4408-a753-6eaf22f8797d",
   "metadata": {},
   "outputs": [],
   "source": [
    "# Import the MODIS land surface temperature collection.\n",
    "lst = ee.ImageCollection('MODIS/006/MOD11A1')"
   ]
  },
  {
   "cell_type": "code",
   "execution_count": null,
   "id": "9941c9df-805e-4065-a79d-f09e85af10e1",
   "metadata": {},
   "outputs": [],
   "source": [
    "# Import the USGS ground elevation image.\n",
    "elv = ee.Image('USGS/SRTMGL1_003')"
   ]
  },
  {
   "cell_type": "code",
   "execution_count": null,
   "id": "2c1b54bc-46da-4bf4-85b0-95a71290177b",
   "metadata": {},
   "outputs": [],
   "source": []
  },
  {
   "cell_type": "markdown",
   "id": "96faaa7e-9b12-4d3f-88d3-d0f7c48f8b0e",
   "metadata": {},
   "source": [
    "## LST(Land Surface Temperature)"
   ]
  },
  {
   "cell_type": "code",
   "execution_count": 18,
   "id": "284e4bcd-792d-41d4-b780-4ba907b1abad",
   "metadata": {},
   "outputs": [],
   "source": [
    "# 日付によるフィルタリング\n",
    "# Initial date of interest (inclusive).\n",
    "i_date = '2017-01-01'\n",
    "# Final date of interest (exclusive).\n",
    "f_date = '2020-01-01'\n",
    "# Selection of appropriate bands and dates for LST.\n",
    "lst = lst.select('LST_Day_1km', 'QC_Day').filterDate(i_date, f_date)"
   ]
  },
  {
   "cell_type": "code",
   "execution_count": 19,
   "id": "4110a580-12d0-431e-90cb-cbfdccbcb4c8",
   "metadata": {},
   "outputs": [
    {
     "name": "stdout",
     "output_type": "stream",
     "text": [
      "Average daytime LST at urban point: 22.06 °C\n"
     ]
    }
   ],
   "source": [
    "# Calculate and print the mean value of the LST collection at the point.\n",
    "lst_urban_point = lst.mean().sample(u_poi, scale).first().get('LST_Day_1km').getInfo()\n",
    "print('Average daytime LST at urban point:', round(lst_urban_point*0.02 -273.15, 2), '°C')"
   ]
  },
  {
   "cell_type": "code",
   "execution_count": 22,
   "id": "be88b079-4cd7-4173-956a-2b3761b4b95f",
   "metadata": {},
   "outputs": [
    {
     "data": {
      "text/plain": [
       "ee.Geometry({\n",
       "  \"functionInvocationValue\": {\n",
       "    \"functionName\": \"Geometry.buffer\",\n",
       "    \"arguments\": {\n",
       "      \"distance\": {\n",
       "        \"constantValue\": 1000000.0\n",
       "      },\n",
       "      \"geometry\": {\n",
       "        \"functionInvocationValue\": {\n",
       "          \"functionName\": \"GeometryConstructors.Point\",\n",
       "          \"arguments\": {\n",
       "            \"coordinates\": {\n",
       "              \"constantValue\": [\n",
       "                4.8148,\n",
       "                45.7758\n",
       "              ]\n",
       "            }\n",
       "          }\n",
       "        }\n",
       "      }\n",
       "    }\n",
       "  }\n",
       "})"
      ]
     },
     "execution_count": 22,
     "metadata": {},
     "output_type": "execute_result"
    }
   ],
   "source": [
    "# Define a region of interest with a buffer zone of 1000 km around Lyon.\n",
    "roi = u_poi.buffer(1e6)\n",
    "roi"
   ]
  },
  {
   "cell_type": "code",
   "execution_count": 23,
   "id": "44a417ea-61c7-4854-9dc5-96a7518da271",
   "metadata": {},
   "outputs": [],
   "source": [
    "# Reduce the LST collection by mean.\n",
    "lst_img = lst.mean()\n",
    "\n",
    "# Adjust for scale factor.\n",
    "lst_img = lst_img.select('LST_Day_1km').multiply(0.02)\n",
    "\n",
    "# Convert Kelvin to Celsius.\n",
    "lst_img = lst_img.select('LST_Day_1km').add(-273.15)"
   ]
  },
  {
   "cell_type": "code",
   "execution_count": 25,
   "id": "80a9844f-ea47-47ad-b123-24e4e51e68eb",
   "metadata": {},
   "outputs": [],
   "source": [
    "# Create a URL to the styled image for a region around France.\n",
    "url = lst_img.getThumbUrl({\n",
    "    'min': 10, 'max': 30, 'dimensions': 512, 'region': roi,\n",
    "    'palette': ['blue', 'yellow', 'orange', 'red']})"
   ]
  },
  {
   "cell_type": "code",
   "execution_count": 26,
   "id": "42ecacb4-08a1-45e0-8dae-3b9697298fa4",
   "metadata": {},
   "outputs": [
    {
     "data": {
      "text/plain": [
       "'https://earthengine.googleapis.com/v1alpha/projects/earthengine-legacy/thumbnails/c2f5dfbce16846626c79f7ce96e533c5-773bcfc756abbae82b527a50aa778665:getPixels'"
      ]
     },
     "execution_count": 26,
     "metadata": {},
     "output_type": "execute_result"
    }
   ],
   "source": [
    "url"
   ]
  },
  {
   "cell_type": "code",
   "execution_count": 28,
   "id": "a0ced64d-ee36-4583-b76b-730ea76b76de",
   "metadata": {},
   "outputs": [
    {
     "data": {
      "text/html": [
       "<img src=\"https://earthengine.googleapis.com/v1alpha/projects/earthengine-legacy/thumbnails/c2f5dfbce16846626c79f7ce96e533c5-773bcfc756abbae82b527a50aa778665:getPixels\"/>"
      ],
      "text/plain": [
       "<IPython.core.display.Image object>"
      ]
     },
     "execution_count": 28,
     "metadata": {},
     "output_type": "execute_result"
    }
   ],
   "source": [
    "# Display the thumbnail land surface temperature in France.\n",
    "from IPython.display import Image\n",
    "Image(url=url)"
   ]
  },
  {
   "cell_type": "code",
   "execution_count": null,
   "id": "d8df0dce-8615-4f70-8c12-8848b3f7c9fc",
   "metadata": {},
   "outputs": [],
   "source": []
  },
  {
   "cell_type": "markdown",
   "id": "689eaa1d-3cac-4dfa-9ee6-38a847d4a813",
   "metadata": {},
   "source": [
    "## ELV(Elevation)"
   ]
  },
  {
   "cell_type": "code",
   "execution_count": 14,
   "id": "afb9f932-2822-4957-8130-410a1c1f400b",
   "metadata": {},
   "outputs": [
    {
     "data": {
      "text/plain": [
       "{'type': 'Feature',\n",
       " 'geometry': None,\n",
       " 'id': '0',\n",
       " 'properties': {'elevation': 196}}"
      ]
     },
     "execution_count": 14,
     "metadata": {},
     "output_type": "execute_result"
    }
   ],
   "source": [
    "scale = 1000 # scale in meters\n",
    "elv.sample(u_poi, scale).first().getInfo()"
   ]
  },
  {
   "cell_type": "code",
   "execution_count": 31,
   "id": "a1746372-7aab-4c2e-91f3-70123c46ebe7",
   "metadata": {},
   "outputs": [
    {
     "data": {
      "text/html": [
       "<img src=\"https://earthengine.googleapis.com/v1alpha/projects/earthengine-legacy/thumbnails/e2e227fa24686eca65b8ad2bb9abfbc9-032077ff8397bfad8ac68dddbbec1131:getPixels\"/>"
      ],
      "text/plain": [
       "<IPython.core.display.Image object>"
      ]
     },
     "execution_count": 31,
     "metadata": {},
     "output_type": "execute_result"
    }
   ],
   "source": [
    "# Make pixels with elevation below sea level transparent.\n",
    "elv_img = elv.updateMask(elv.gt(0))\n",
    "\n",
    "# Display the thumbnail of styled elevation in France.\n",
    "Image(url=elv_img.getThumbURL({\n",
    "    'min': 0, 'max': 2000, 'dimensions': 512, 'region': roi,\n",
    "    'palette': ['006633', 'E5FFCC', '662A00', 'D8D8D8', 'F5F5F5']}))"
   ]
  },
  {
   "cell_type": "code",
   "execution_count": null,
   "id": "11dc7260-1afa-4730-9c53-026267ab408f",
   "metadata": {},
   "outputs": [],
   "source": []
  },
  {
   "cell_type": "markdown",
   "id": "3d4f4625-bb6d-4bd2-a23e-5975a88c5317",
   "metadata": {},
   "source": [
    "## LC(Land Cover)"
   ]
  },
  {
   "cell_type": "code",
   "execution_count": null,
   "id": "0664093c-460d-4ebe-8a1d-b4dd7eeb5498",
   "metadata": {},
   "outputs": [
    {
     "name": "stdout",
     "output_type": "stream",
     "text": [
      "Land cover value at urban point is: 13\n"
     ]
    }
   ],
   "source": [
    "# Print the land cover type at the point.\n",
    "lc_urban_point = lc.first().sample(u_poi, scale).first().get('LC_Type1').getInfo()\n",
    "print('Land cover value at urban point is:', lc_urban_point)"
   ]
  },
  {
   "cell_type": "code",
   "execution_count": null,
   "id": "2e762af8-2a52-4b0d-b12d-370a68f3fde4",
   "metadata": {},
   "outputs": [],
   "source": []
  },
  {
   "cell_type": "code",
   "execution_count": null,
   "id": "8fd90ac4-7c76-4989-afd1-2648498079a9",
   "metadata": {},
   "outputs": [],
   "source": []
  },
  {
   "cell_type": "markdown",
   "id": "f6abbb27-11bb-4ff9-866f-fc6f792d3c3f",
   "metadata": {},
   "source": [
    "# GeoTIFFファイルで出力"
   ]
  },
  {
   "cell_type": "code",
   "execution_count": null,
   "id": "abf6998e-edbd-4f0f-9077-91dbc5532bcc",
   "metadata": {},
   "outputs": [],
   "source": []
  },
  {
   "cell_type": "code",
   "execution_count": null,
   "id": "ef7d5198-76c7-4fca-be04-60b326136639",
   "metadata": {},
   "outputs": [],
   "source": []
  },
  {
   "cell_type": "code",
   "execution_count": null,
   "id": "ad00b499-5217-4309-817a-01ba5ed854a3",
   "metadata": {},
   "outputs": [],
   "source": []
  },
  {
   "cell_type": "code",
   "execution_count": null,
   "id": "b62eda5e-c70a-4c4a-9171-45a1b600ad40",
   "metadata": {},
   "outputs": [],
   "source": []
  },
  {
   "cell_type": "code",
   "execution_count": null,
   "id": "651a5e2e-48ab-4f41-b238-16af10d092f0",
   "metadata": {},
   "outputs": [],
   "source": []
  }
 ],
 "metadata": {
  "kernelspec": {
   "display_name": "Python 3 (ipykernel)",
   "language": "python",
   "name": "python3"
  },
  "language_info": {
   "codemirror_mode": {
    "name": "ipython",
    "version": 3
   },
   "file_extension": ".py",
   "mimetype": "text/x-python",
   "name": "python",
   "nbconvert_exporter": "python",
   "pygments_lexer": "ipython3",
   "version": "3.10.4"
  },
  "vscode": {
   "interpreter": {
    "hash": "28412b9011f38a10e4f48c0496cdaf27b91294878de1b8d1b8a1fb0a172acf79"
   }
  }
 },
 "nbformat": 4,
 "nbformat_minor": 5
}
