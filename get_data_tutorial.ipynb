{
 "cells": [
  {
   "cell_type": "markdown",
   "id": "a59887ad-7c44-4b50-8956-895290e33047",
   "metadata": {},
   "source": [
    "各APIの使い方を整理し、共通化を検討するための検証notebook\n",
    "\n",
    "対象のAPI:\n",
    "- Open Access Hub\n",
    "- Sentinel Hub\n",
    "- Earthdataのサービス群\n",
    "- Google Earth Engine\n",
    "- OpenDataCube\n",
    "- Ursa\n",
    "- Earth on AWS\n",
    "- SkyWatch\n",
    "- BlackSky\n",
    "- ClimateEngine"
   ]
  },
  {
   "cell_type": "code",
   "execution_count": null,
   "id": "67314ea0-72f8-4652-85fb-d84c1e9854b3",
   "metadata": {},
   "outputs": [],
   "source": []
  }
 ],
 "metadata": {
  "kernelspec": {
   "display_name": "Python 3.9.9 64-bit ('3.9.9')",
   "language": "python",
   "name": "python3"
  },
  "language_info": {
   "codemirror_mode": {
    "name": "ipython",
    "version": 3
   },
   "file_extension": ".py",
   "mimetype": "text/x-python",
   "name": "python",
   "nbconvert_exporter": "python",
   "pygments_lexer": "ipython3",
   "version": "3.9.9"
  },
  "vscode": {
   "interpreter": {
    "hash": "28412b9011f38a10e4f48c0496cdaf27b91294878de1b8d1b8a1fb0a172acf79"
   }
  }
 },
 "nbformat": 4,
 "nbformat_minor": 5
}
