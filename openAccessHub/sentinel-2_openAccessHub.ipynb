{
 "cells": [
  {
   "cell_type": "markdown",
   "id": "f7e4626d-725a-49e3-a6f7-8b1d8e75d8ea",
   "metadata": {},
   "source": [
    "# Open Access Hubを利用してSentinelの衛星データをAPI経由で取得"
   ]
  },
  {
   "cell_type": "markdown",
   "id": "2211f71c-5645-45a8-a9e0-3170100f1f1a",
   "metadata": {},
   "source": [
    "- APIのユーザーガイド\n",
    "\n",
    "https://scihub.copernicus.eu/userguide/\n",
    "\n",
    "- ユーザー登録画面\n",
    "\n",
    "https://scihub.copernicus.eu/dhus/#/self-registration"
   ]
  },
  {
   "cell_type": "code",
   "execution_count": 76,
   "id": "1060bbd0-9d90-401e-9279-060f1e92a4b4",
   "metadata": {},
   "outputs": [],
   "source": [
    "import os\n",
    "import numpy as np\n",
    "\n",
    "from sentinelsat import SentinelAPI, read_geojson, geojson_to_wkt \n",
    "import geopandas as gpd\n",
    "import matplotlib.pyplot as plt\n",
    "\n",
    "from shapely.geometry import MultiPolygon, Polygon\n",
    "import rasterio as rio\n",
    "from rasterio.plot import show\n",
    "import rasterio.mask\n",
    "import fiona\n",
    "import folium\n",
    "\n",
    "from geojson import Polygon\n",
    "import json"
   ]
  },
  {
   "cell_type": "markdown",
   "id": "fe5fb199-c6ab-4704-9f70-12cd57dc2992",
   "metadata": {},
   "source": [
    "# 前準備"
   ]
  },
  {
   "cell_type": "markdown",
   "id": "57111d51-819a-4c9a-ba39-ced2add10904",
   "metadata": {},
   "source": [
    "## 取得したいエリアの座標を取得する"
   ]
  },
  {
   "cell_type": "code",
   "execution_count": 77,
   "id": "bb097e1c-29da-4492-a0b1-fc9c17d38c9d",
   "metadata": {
    "tags": []
   },
   "outputs": [
    {
     "name": "stderr",
     "output_type": "stream",
     "text": [
      "/usr/local/lib/python3.10/dist-packages/IPython/core/display.py:419: UserWarning: Consider using IPython.display.IFrame instead\n",
      "  warnings.warn(\"Consider using IPython.display.IFrame instead\")\n"
     ]
    },
    {
     "data": {
      "text/html": [
       "<iframe src=\"https://www.keene.edu/campus/maps/tool/\" width=\"960\" height=\"480\" frameborder=\"0\"></iframe>"
      ],
      "text/plain": [
       "<IPython.core.display.HTML object>"
      ]
     },
     "execution_count": 77,
     "metadata": {},
     "output_type": "execute_result"
    }
   ],
   "source": [
    "# 座標を算出するためのツール\n",
    "from IPython.display import HTML\n",
    "\n",
    "HTML(r'<iframe src=\"https://www.keene.edu/campus/maps/tool/\" width=\"960\" height=\"480\" frameborder=\"0\"></iframe>')"
   ]
  },
  {
   "cell_type": "code",
   "execution_count": 78,
   "id": "ca48d007-382d-45d6-ab08-6263aa856bf6",
   "metadata": {},
   "outputs": [],
   "source": [
    "# 上記で算出したデータをAREAに格納\n",
    "AREA = [[\n",
    "        -220.2539341,\n",
    "        35.6810136\n",
    "      ],\n",
    "      [\n",
    "        -220.2546208,\n",
    "        35.6581427\n",
    "      ],\n",
    "      [\n",
    "        -220.2072423,\n",
    "        35.6581427\n",
    "      ],\n",
    "      [\n",
    "        -220.2055256,\n",
    "        35.6812924\n",
    "      ],\n",
    "      [\n",
    "        -220.2529042,\n",
    "        35.6815713\n",
    "      ],\n",
    "      [\n",
    "        -220.2539341,\n",
    "        35.6810136\n",
    "      ]]"
   ]
  },
  {
   "cell_type": "code",
   "execution_count": 79,
   "id": "4a585204-8f9b-40f3-8aca-a1feb8284df4",
   "metadata": {},
   "outputs": [],
   "source": [
    "# 座標の変換\n",
    "for i in range(len(AREA)):\n",
    "    AREA[i][0] = AREA[i][0] + 360"
   ]
  },
  {
   "cell_type": "code",
   "execution_count": 80,
   "id": "1048fb05-d203-4905-a861-b63cc0a745d5",
   "metadata": {},
   "outputs": [
    {
     "data": {
      "text/plain": [
       "[[139.7460659, 35.6810136],\n",
       " [139.7453792, 35.6581427],\n",
       " [139.7927577, 35.6581427],\n",
       " [139.7944744, 35.6812924],\n",
       " [139.7470958, 35.6815713],\n",
       " [139.7460659, 35.6810136]]"
      ]
     },
     "execution_count": 80,
     "metadata": {},
     "output_type": "execute_result"
    }
   ],
   "source": [
    "AREA"
   ]
  },
  {
   "cell_type": "markdown",
   "id": "29544318-7248-4da8-b6f9-1397920cb1cd",
   "metadata": {},
   "source": [
    "## エリア情報をgeojson形式に変換"
   ]
  },
  {
   "cell_type": "code",
   "execution_count": 81,
   "id": "f923d59f-131c-4156-8c87-3b0cfab5700e",
   "metadata": {},
   "outputs": [],
   "source": [
    "# shapelyの機能でポリゴン化\n",
    "m=Polygon([AREA])\n",
    "\n",
    "# 今回の対象名を定義\n",
    "objname = 'Tokyo'"
   ]
  },
  {
   "cell_type": "code",
   "execution_count": 82,
   "id": "a335941d-bb26-40cd-b33a-89a0ed6de18c",
   "metadata": {},
   "outputs": [],
   "source": [
    "# AREAをPolygonにしたデータをJSONとして出力\n",
    "with open(str(objname) + '.geojson', 'w') as f:\n",
    "    json.dump(m, f)\n",
    "footprint_geojson = geojson_to_wkt(read_geojson(str(objname)+'.geojson'))"
   ]
  },
  {
   "cell_type": "code",
   "execution_count": 83,
   "id": "2b39bea9-7ecc-463e-ae6f-82ed7483dc9e",
   "metadata": {},
   "outputs": [
    {
     "data": {
      "text/plain": [
       "'POLYGON((139.7461 35.6810,139.7454 35.6581,139.7928 35.6581,139.7945 35.6813,139.7471 35.6816,139.7461 35.6810))'"
      ]
     },
     "execution_count": 83,
     "metadata": {},
     "output_type": "execute_result"
    }
   ],
   "source": [
    "footprint_geojson"
   ]
  },
  {
   "cell_type": "code",
   "execution_count": 84,
   "id": "83e1a8ff-8742-42f6-91d5-84c8b7c0a456",
   "metadata": {
    "tags": []
   },
   "outputs": [
    {
     "data": {
      "text/html": [
       "<div style=\"width:100%;\"><div style=\"position:relative;width:100%;height:0;padding-bottom:60%;\"><span style=\"color:#565656\">Make this Notebook Trusted to load map: File -> Trust Notebook</span><iframe srcdoc=\"&lt;!DOCTYPE html&gt;\n",
       "&lt;head&gt;    \n",
       "    &lt;meta http-equiv=&quot;content-type&quot; content=&quot;text/html; charset=UTF-8&quot; /&gt;\n",
       "    \n",
       "        &lt;script&gt;\n",
       "            L_NO_TOUCH = false;\n",
       "            L_DISABLE_3D = false;\n",
       "        &lt;/script&gt;\n",
       "    \n",
       "    &lt;style&gt;html, body {width: 100%;height: 100%;margin: 0;padding: 0;}&lt;/style&gt;\n",
       "    &lt;style&gt;#map {position:absolute;top:0;bottom:0;right:0;left:0;}&lt;/style&gt;\n",
       "    &lt;script src=&quot;https://cdn.jsdelivr.net/npm/leaflet@1.6.0/dist/leaflet.js&quot;&gt;&lt;/script&gt;\n",
       "    &lt;script src=&quot;https://code.jquery.com/jquery-1.12.4.min.js&quot;&gt;&lt;/script&gt;\n",
       "    &lt;script src=&quot;https://maxcdn.bootstrapcdn.com/bootstrap/3.2.0/js/bootstrap.min.js&quot;&gt;&lt;/script&gt;\n",
       "    &lt;script src=&quot;https://cdnjs.cloudflare.com/ajax/libs/Leaflet.awesome-markers/2.0.2/leaflet.awesome-markers.js&quot;&gt;&lt;/script&gt;\n",
       "    &lt;link rel=&quot;stylesheet&quot; href=&quot;https://cdn.jsdelivr.net/npm/leaflet@1.6.0/dist/leaflet.css&quot;/&gt;\n",
       "    &lt;link rel=&quot;stylesheet&quot; href=&quot;https://maxcdn.bootstrapcdn.com/bootstrap/3.2.0/css/bootstrap.min.css&quot;/&gt;\n",
       "    &lt;link rel=&quot;stylesheet&quot; href=&quot;https://maxcdn.bootstrapcdn.com/bootstrap/3.2.0/css/bootstrap-theme.min.css&quot;/&gt;\n",
       "    &lt;link rel=&quot;stylesheet&quot; href=&quot;https://maxcdn.bootstrapcdn.com/font-awesome/4.6.3/css/font-awesome.min.css&quot;/&gt;\n",
       "    &lt;link rel=&quot;stylesheet&quot; href=&quot;https://cdnjs.cloudflare.com/ajax/libs/Leaflet.awesome-markers/2.0.2/leaflet.awesome-markers.css&quot;/&gt;\n",
       "    &lt;link rel=&quot;stylesheet&quot; href=&quot;https://cdn.jsdelivr.net/gh/python-visualization/folium/folium/templates/leaflet.awesome.rotate.min.css&quot;/&gt;\n",
       "    \n",
       "            &lt;meta name=&quot;viewport&quot; content=&quot;width=device-width,\n",
       "                initial-scale=1.0, maximum-scale=1.0, user-scalable=no&quot; /&gt;\n",
       "            &lt;style&gt;\n",
       "                #map_0d6574e59cd7d55e47712309331c3655 {\n",
       "                    position: relative;\n",
       "                    width: 100.0%;\n",
       "                    height: 100.0%;\n",
       "                    left: 0.0%;\n",
       "                    top: 0.0%;\n",
       "                }\n",
       "            &lt;/style&gt;\n",
       "        \n",
       "&lt;/head&gt;\n",
       "&lt;body&gt;    \n",
       "    \n",
       "            &lt;div class=&quot;folium-map&quot; id=&quot;map_0d6574e59cd7d55e47712309331c3655&quot; &gt;&lt;/div&gt;\n",
       "        \n",
       "&lt;/body&gt;\n",
       "&lt;script&gt;    \n",
       "    \n",
       "            var map_0d6574e59cd7d55e47712309331c3655 = L.map(\n",
       "                &quot;map_0d6574e59cd7d55e47712309331c3655&quot;,\n",
       "                {\n",
       "                    center: [35.6810136, 139.7460659],\n",
       "                    crs: L.CRS.EPSG3857,\n",
       "                    zoom: 10,\n",
       "                    zoomControl: true,\n",
       "                    preferCanvas: false,\n",
       "                }\n",
       "            );\n",
       "\n",
       "            \n",
       "\n",
       "        \n",
       "    \n",
       "            var tile_layer_69bd58964eb4325f5630e3e98d4b2c4a = L.tileLayer(\n",
       "                &quot;https://{s}.tile.openstreetmap.org/{z}/{x}/{y}.png&quot;,\n",
       "                {&quot;attribution&quot;: &quot;Data by \\u0026copy; \\u003ca href=\\&quot;http://openstreetmap.org\\&quot;\\u003eOpenStreetMap\\u003c/a\\u003e, under \\u003ca href=\\&quot;http://www.openstreetmap.org/copyright\\&quot;\\u003eODbL\\u003c/a\\u003e.&quot;, &quot;detectRetina&quot;: false, &quot;maxNativeZoom&quot;: 18, &quot;maxZoom&quot;: 18, &quot;minZoom&quot;: 0, &quot;noWrap&quot;: false, &quot;opacity&quot;: 1, &quot;subdomains&quot;: &quot;abc&quot;, &quot;tms&quot;: false}\n",
       "            ).addTo(map_0d6574e59cd7d55e47712309331c3655);\n",
       "        \n",
       "    \n",
       "\n",
       "        function geo_json_8f83adb9c46aa4de4611d2a1523d721f_onEachFeature(feature, layer) {\n",
       "            layer.on({\n",
       "            });\n",
       "        };\n",
       "        var geo_json_8f83adb9c46aa4de4611d2a1523d721f = L.geoJson(null, {\n",
       "                onEachFeature: geo_json_8f83adb9c46aa4de4611d2a1523d721f_onEachFeature,\n",
       "            \n",
       "        });\n",
       "\n",
       "        function geo_json_8f83adb9c46aa4de4611d2a1523d721f_add (data) {\n",
       "            geo_json_8f83adb9c46aa4de4611d2a1523d721f\n",
       "                .addData(data)\n",
       "                .addTo(map_0d6574e59cd7d55e47712309331c3655);\n",
       "        }\n",
       "            geo_json_8f83adb9c46aa4de4611d2a1523d721f_add({&quot;coordinates&quot;: [[[139.746066, 35.681014], [139.745379, 35.658143], [139.792758, 35.658143], [139.794474, 35.681292], [139.747096, 35.681571], [139.746066, 35.681014]]], &quot;type&quot;: &quot;Polygon&quot;});\n",
       "\n",
       "        \n",
       "&lt;/script&gt;\" style=\"position:absolute;width:100%;height:100%;left:0;top:0;border:none !important;\" allowfullscreen webkitallowfullscreen mozallowfullscreen></iframe></div></div>"
      ],
      "text/plain": [
       "<folium.folium.Map at 0xffff78b4b250>"
      ]
     },
     "execution_count": 84,
     "metadata": {},
     "output_type": "execute_result"
    }
   ],
   "source": [
    "# foliumの地図閲覧機能を用いて定義した領域があっているか確認\n",
    "m = folium.Map([(AREA[0][1]+AREA[len(AREA)-1][1])/2,(AREA[0][0]+AREA[len(AREA)-1][0])/2], zoom_start=10)\n",
    "folium.GeoJson(str(objname) +'.geojson').add_to(m)\n",
    "m"
   ]
  },
  {
   "cell_type": "code",
   "execution_count": null,
   "id": "139cea2c-895f-4c91-81ea-8e7109a1c420",
   "metadata": {},
   "outputs": [],
   "source": []
  },
  {
   "cell_type": "markdown",
   "id": "993a3641-df5a-4bef-847d-0ac7c347d7be",
   "metadata": {},
   "source": [
    "# データ取得"
   ]
  },
  {
   "cell_type": "markdown",
   "id": "7934f526-5d8f-484b-9cfd-b5b3f9302af6",
   "metadata": {},
   "source": [
    "## メタデータ取得"
   ]
  },
  {
   "cell_type": "markdown",
   "id": "a77913e9-c423-4c11-9c36-d894f818b72c",
   "metadata": {},
   "source": [
    "★ 事前にOpen Access Hubのアカウントを用意すること"
   ]
  },
  {
   "cell_type": "code",
   "execution_count": 85,
   "id": "5840bbcd-9665-4940-8d5a-56e9819f5546",
   "metadata": {},
   "outputs": [
    {
     "name": "stdout",
     "output_type": "stream",
     "text": [
      " ········\n"
     ]
    }
   ],
   "source": [
    "# アクセス情報の設定\n",
    "# パスワードは隠すために入力形式にしている\n",
    "user = 'shuntaro'\n",
    "\n",
    "from getpass import getpass\n",
    "password = getpass()\n",
    "\n",
    "api = SentinelAPI(user, password, 'https://scihub.copernicus.eu/dhus')"
   ]
  },
  {
   "cell_type": "code",
   "execution_count": 86,
   "id": "50398947-dbc9-47ef-b31c-ae8e3f415483",
   "metadata": {},
   "outputs": [
    {
     "data": {
      "text/plain": [
       "<sentinelsat.sentinel.SentinelAPI at 0xffff78ad59f0>"
      ]
     },
     "execution_count": 86,
     "metadata": {},
     "output_type": "execute_result"
    }
   ],
   "source": [
    "api"
   ]
  },
  {
   "cell_type": "markdown",
   "id": "48911282-ef73-4a31-b7f3-60753937472e",
   "metadata": {},
   "source": [
    "パラメータとして、\n",
    "\n",
    "- 座標情報（ベクターデータで指定）\n",
    "- 取得希望期間（日時情報）\n",
    "- 衛星\n",
    "- 処理レベル（L1Cなど）\n",
    "- 被雲率\n",
    "\n",
    "を指定できる"
   ]
  },
  {
   "cell_type": "code",
   "execution_count": 87,
   "id": "82353cbf-7f72-495f-88fc-889816460e8e",
   "metadata": {},
   "outputs": [],
   "source": [
    "# 取得したいデータの情報を入力し、データ取得実行\n",
    "# 取得したい範囲を指定したgeojson情報に、エリアが被るデータが引っかかる\n",
    "products = api.query(footprint_geojson, # 座標情報\n",
    "                     date = ('20220501', '20220531'), #取得希望期間の入力\n",
    "                     platformname = 'Sentinel-2', # 衛星の指定\n",
    "                     processinglevel = 'Level-1C', # レベルの指定\n",
    "                     cloudcoverpercentage = (0,50)) #被雲率（0％〜100％）"
   ]
  },
  {
   "cell_type": "markdown",
   "id": "382468b8-afd9-4aff-9b3e-aea9f4eac88e",
   "metadata": {},
   "source": [
    "選択範囲が大きい、選択範囲の画像がない、といった場合はエラーになる"
   ]
  },
  {
   "cell_type": "code",
   "execution_count": 88,
   "id": "e2f439e3-13bd-49cf-b9af-7e483f055edf",
   "metadata": {},
   "outputs": [
    {
     "data": {
      "text/plain": [
       "1"
      ]
     },
     "execution_count": 88,
     "metadata": {},
     "output_type": "execute_result"
    }
   ],
   "source": [
    "len(products)"
   ]
  },
  {
   "cell_type": "code",
   "execution_count": 91,
   "id": "3a868f58-65ac-43f4-9733-b292bba31d2f",
   "metadata": {},
   "outputs": [
    {
     "data": {
      "text/plain": [
       "OrderedDict([('a2096056-6593-46c5-b0ac-f9f48367e32c',\n",
       "              {'title': 'S2A_MSIL1C_20220522T012701_N0400_R074_T54SUE_20220522T031554',\n",
       "               'link': \"https://scihub.copernicus.eu/dhus/odata/v1/Products('a2096056-6593-46c5-b0ac-f9f48367e32c')/$value\",\n",
       "               'link_alternative': \"https://scihub.copernicus.eu/dhus/odata/v1/Products('a2096056-6593-46c5-b0ac-f9f48367e32c')/\",\n",
       "               'link_icon': \"https://scihub.copernicus.eu/dhus/odata/v1/Products('a2096056-6593-46c5-b0ac-f9f48367e32c')/Products('Quicklook')/$value\",\n",
       "               'summary': 'Date: 2022-05-22T01:27:01.024Z, Instrument: MSI, Satellite: Sentinel-2, Size: 819.78 MB',\n",
       "               'ondemand': 'false',\n",
       "               'datatakesensingstart': datetime.datetime(2022, 5, 22, 1, 27, 1, 24000),\n",
       "               'generationdate': datetime.datetime(2022, 5, 22, 3, 15, 54),\n",
       "               'beginposition': datetime.datetime(2022, 5, 22, 1, 27, 1, 24000),\n",
       "               'endposition': datetime.datetime(2022, 5, 22, 1, 27, 1, 24000),\n",
       "               'ingestiondate': datetime.datetime(2022, 5, 22, 4, 48, 6, 806000),\n",
       "               'orbitnumber': 36107,\n",
       "               'relativeorbitnumber': 74,\n",
       "               'cloudcoverpercentage': 32.259756935113,\n",
       "               'sensoroperationalmode': 'INS-NOBS',\n",
       "               'gmlfootprint': '<gml:Polygon srsName=\"http://www.opengis.net/gml/srs/epsg.xml#4326\" xmlns:gml=\"http://www.opengis.net/gml\">\\n   <gml:outerBoundaryIs>\\n      <gml:LinearRing>\\n         <gml:coordinates>36.12427601168043,138.77760353347315 36.14070199706385,139.99742868973178 35.15084307125522,140.00972076437196 35.13500195241116,138.80482996814663 36.12427601168043,138.77760353347315</gml:coordinates>\\n      </gml:LinearRing>\\n   </gml:outerBoundaryIs>\\n</gml:Polygon>',\n",
       "               'footprint': 'MULTIPOLYGON (((138.80482996814663 35.13500195241116, 140.00972076437196 35.15084307125522, 139.99742868973178 36.14070199706385, 138.77760353347315 36.12427601168043, 138.80482996814663 35.13500195241116)))',\n",
       "               'level1cpdiidentifier': 'S2A_OPER_MSI_L1C_TL_ATOS_20220522T031554_A036107_T54SUE_N04.00',\n",
       "               'tileid': '54SUE',\n",
       "               'hv_order_tileid': 'SE54U',\n",
       "               'format': 'SAFE',\n",
       "               'processingbaseline': '04.00',\n",
       "               'platformname': 'Sentinel-2',\n",
       "               'filename': 'S2A_MSIL1C_20220522T012701_N0400_R074_T54SUE_20220522T031554.SAFE',\n",
       "               'instrumentname': 'Multi-Spectral Instrument',\n",
       "               'instrumentshortname': 'MSI',\n",
       "               'size': '819.78 MB',\n",
       "               's2datatakeid': 'GS2A_20220522T012701_036107_N04.00',\n",
       "               'producttype': 'S2MSI1C',\n",
       "               'platformidentifier': '2015-028A',\n",
       "               'orbitdirection': 'DESCENDING',\n",
       "               'platformserialidentifier': 'Sentinel-2A',\n",
       "               'processinglevel': 'Level-1C',\n",
       "               'datastripidentifier': 'S2A_OPER_MSI_L1C_DS_ATOS_20220522T031554_S20220522T013531_N04.00',\n",
       "               'granuleidentifier': 'S2A_OPER_MSI_L1C_TL_ATOS_20220522T031554_A036107_T54SUE_N04.00',\n",
       "               'identifier': 'S2A_MSIL1C_20220522T012701_N0400_R074_T54SUE_20220522T031554',\n",
       "               'uuid': 'a2096056-6593-46c5-b0ac-f9f48367e32c'})])"
      ]
     },
     "execution_count": 91,
     "metadata": {},
     "output_type": "execute_result"
    }
   ],
   "source": [
    "products"
   ]
  },
  {
   "cell_type": "markdown",
   "id": "533a24f0-5470-4c3e-bdcc-90617a08801f",
   "metadata": {},
   "source": [
    "## 結果を確認"
   ]
  },
  {
   "cell_type": "code",
   "execution_count": 89,
   "id": "dd4664fc-be96-45fc-a922-e74d58569db1",
   "metadata": {},
   "outputs": [
    {
     "data": {
      "text/plain": [
       "collections.OrderedDict"
      ]
     },
     "execution_count": 89,
     "metadata": {},
     "output_type": "execute_result"
    }
   ],
   "source": [
    "type(products)"
   ]
  },
  {
   "cell_type": "code",
   "execution_count": 92,
   "id": "0cc86a23-c34d-444e-8e30-56074d283fb3",
   "metadata": {},
   "outputs": [
    {
     "data": {
      "text/html": [
       "<div>\n",
       "<style scoped>\n",
       "    .dataframe tbody tr th:only-of-type {\n",
       "        vertical-align: middle;\n",
       "    }\n",
       "\n",
       "    .dataframe tbody tr th {\n",
       "        vertical-align: top;\n",
       "    }\n",
       "\n",
       "    .dataframe thead th {\n",
       "        text-align: right;\n",
       "    }\n",
       "</style>\n",
       "<table border=\"1\" class=\"dataframe\">\n",
       "  <thead>\n",
       "    <tr style=\"text-align: right;\">\n",
       "      <th></th>\n",
       "      <th>title</th>\n",
       "      <th>link</th>\n",
       "      <th>link_alternative</th>\n",
       "      <th>link_icon</th>\n",
       "      <th>summary</th>\n",
       "      <th>ondemand</th>\n",
       "      <th>datatakesensingstart</th>\n",
       "      <th>generationdate</th>\n",
       "      <th>beginposition</th>\n",
       "      <th>endposition</th>\n",
       "      <th>...</th>\n",
       "      <th>producttype</th>\n",
       "      <th>platformidentifier</th>\n",
       "      <th>orbitdirection</th>\n",
       "      <th>platformserialidentifier</th>\n",
       "      <th>processinglevel</th>\n",
       "      <th>datastripidentifier</th>\n",
       "      <th>granuleidentifier</th>\n",
       "      <th>identifier</th>\n",
       "      <th>uuid</th>\n",
       "      <th>geometry</th>\n",
       "    </tr>\n",
       "  </thead>\n",
       "  <tbody>\n",
       "    <tr>\n",
       "      <th>a2096056-6593-46c5-b0ac-f9f48367e32c</th>\n",
       "      <td>S2A_MSIL1C_20220522T012701_N0400_R074_T54SUE_2...</td>\n",
       "      <td>https://scihub.copernicus.eu/dhus/odata/v1/Pro...</td>\n",
       "      <td>https://scihub.copernicus.eu/dhus/odata/v1/Pro...</td>\n",
       "      <td>https://scihub.copernicus.eu/dhus/odata/v1/Pro...</td>\n",
       "      <td>Date: 2022-05-22T01:27:01.024Z, Instrument: MS...</td>\n",
       "      <td>false</td>\n",
       "      <td>2022-05-22 01:27:01.024</td>\n",
       "      <td>2022-05-22 03:15:54</td>\n",
       "      <td>2022-05-22 01:27:01.024</td>\n",
       "      <td>2022-05-22 01:27:01.024</td>\n",
       "      <td>...</td>\n",
       "      <td>S2MSI1C</td>\n",
       "      <td>2015-028A</td>\n",
       "      <td>DESCENDING</td>\n",
       "      <td>Sentinel-2A</td>\n",
       "      <td>Level-1C</td>\n",
       "      <td>S2A_OPER_MSI_L1C_DS_ATOS_20220522T031554_S2022...</td>\n",
       "      <td>S2A_OPER_MSI_L1C_TL_ATOS_20220522T031554_A0361...</td>\n",
       "      <td>S2A_MSIL1C_20220522T012701_N0400_R074_T54SUE_2...</td>\n",
       "      <td>a2096056-6593-46c5-b0ac-f9f48367e32c</td>\n",
       "      <td>MULTIPOLYGON (((138.80483 35.13500, 140.00972 ...</td>\n",
       "    </tr>\n",
       "  </tbody>\n",
       "</table>\n",
       "<p>1 rows × 36 columns</p>\n",
       "</div>"
      ],
      "text/plain": [
       "                                                                                  title  \\\n",
       "a2096056-6593-46c5-b0ac-f9f48367e32c  S2A_MSIL1C_20220522T012701_N0400_R074_T54SUE_2...   \n",
       "\n",
       "                                                                                   link  \\\n",
       "a2096056-6593-46c5-b0ac-f9f48367e32c  https://scihub.copernicus.eu/dhus/odata/v1/Pro...   \n",
       "\n",
       "                                                                       link_alternative  \\\n",
       "a2096056-6593-46c5-b0ac-f9f48367e32c  https://scihub.copernicus.eu/dhus/odata/v1/Pro...   \n",
       "\n",
       "                                                                              link_icon  \\\n",
       "a2096056-6593-46c5-b0ac-f9f48367e32c  https://scihub.copernicus.eu/dhus/odata/v1/Pro...   \n",
       "\n",
       "                                                                                summary  \\\n",
       "a2096056-6593-46c5-b0ac-f9f48367e32c  Date: 2022-05-22T01:27:01.024Z, Instrument: MS...   \n",
       "\n",
       "                                     ondemand    datatakesensingstart  \\\n",
       "a2096056-6593-46c5-b0ac-f9f48367e32c    false 2022-05-22 01:27:01.024   \n",
       "\n",
       "                                          generationdate  \\\n",
       "a2096056-6593-46c5-b0ac-f9f48367e32c 2022-05-22 03:15:54   \n",
       "\n",
       "                                               beginposition  \\\n",
       "a2096056-6593-46c5-b0ac-f9f48367e32c 2022-05-22 01:27:01.024   \n",
       "\n",
       "                                                 endposition  ... producttype  \\\n",
       "a2096056-6593-46c5-b0ac-f9f48367e32c 2022-05-22 01:27:01.024  ...     S2MSI1C   \n",
       "\n",
       "                                      platformidentifier  orbitdirection  \\\n",
       "a2096056-6593-46c5-b0ac-f9f48367e32c           2015-028A      DESCENDING   \n",
       "\n",
       "                                      platformserialidentifier  \\\n",
       "a2096056-6593-46c5-b0ac-f9f48367e32c               Sentinel-2A   \n",
       "\n",
       "                                     processinglevel  \\\n",
       "a2096056-6593-46c5-b0ac-f9f48367e32c        Level-1C   \n",
       "\n",
       "                                                                    datastripidentifier  \\\n",
       "a2096056-6593-46c5-b0ac-f9f48367e32c  S2A_OPER_MSI_L1C_DS_ATOS_20220522T031554_S2022...   \n",
       "\n",
       "                                                                      granuleidentifier  \\\n",
       "a2096056-6593-46c5-b0ac-f9f48367e32c  S2A_OPER_MSI_L1C_TL_ATOS_20220522T031554_A0361...   \n",
       "\n",
       "                                                                             identifier  \\\n",
       "a2096056-6593-46c5-b0ac-f9f48367e32c  S2A_MSIL1C_20220522T012701_N0400_R074_T54SUE_2...   \n",
       "\n",
       "                                                                      uuid  \\\n",
       "a2096056-6593-46c5-b0ac-f9f48367e32c  a2096056-6593-46c5-b0ac-f9f48367e32c   \n",
       "\n",
       "                                                                               geometry  \n",
       "a2096056-6593-46c5-b0ac-f9f48367e32c  MULTIPOLYGON (((138.80483 35.13500, 140.00972 ...  \n",
       "\n",
       "[1 rows x 36 columns]"
      ]
     },
     "execution_count": 92,
     "metadata": {},
     "output_type": "execute_result"
    }
   ],
   "source": [
    "# dictをpandas形式に変換\n",
    "products_gdf = api.to_geodataframe(products)\n",
    "# sort\n",
    "products_gdf_sorted = products_gdf.sort_values(['cloudcoverpercentage'], ascending=[True])\n",
    "products_gdf_sorted"
   ]
  },
  {
   "cell_type": "code",
   "execution_count": 26,
   "id": "f682077a-46da-4306-a936-ead752e08d33",
   "metadata": {},
   "outputs": [
    {
     "data": {
      "text/plain": [
       "(3, 36)"
      ]
     },
     "execution_count": 26,
     "metadata": {},
     "output_type": "execute_result"
    }
   ],
   "source": [
    "products_gdf_sorted.shape"
   ]
  },
  {
   "cell_type": "code",
   "execution_count": 93,
   "id": "b8080f8a-b24b-4ae7-bd7e-296c907fd159",
   "metadata": {},
   "outputs": [
    {
     "data": {
      "text/plain": [
       "Index(['title', 'link', 'link_alternative', 'link_icon', 'summary', 'ondemand',\n",
       "       'datatakesensingstart', 'generationdate', 'beginposition',\n",
       "       'endposition', 'ingestiondate', 'orbitnumber', 'relativeorbitnumber',\n",
       "       'cloudcoverpercentage', 'sensoroperationalmode', 'level1cpdiidentifier',\n",
       "       'tileid', 'hv_order_tileid', 'format', 'processingbaseline',\n",
       "       'platformname', 'filename', 'instrumentname', 'instrumentshortname',\n",
       "       'size', 's2datatakeid', 'producttype', 'platformidentifier',\n",
       "       'orbitdirection', 'platformserialidentifier', 'processinglevel',\n",
       "       'datastripidentifier', 'granuleidentifier', 'identifier', 'uuid',\n",
       "       'geometry'],\n",
       "      dtype='object')"
      ]
     },
     "execution_count": 93,
     "metadata": {},
     "output_type": "execute_result"
    }
   ],
   "source": [
    "products_gdf_sorted.columns"
   ]
  },
  {
   "cell_type": "code",
   "execution_count": 94,
   "id": "d9352f25-815d-4fd5-a9f1-eef1a509ff32",
   "metadata": {},
   "outputs": [
    {
     "name": "stderr",
     "output_type": "stream",
     "text": [
      "/usr/local/lib/python3.10/dist-packages/pandas/core/dtypes/inference.py:383: ShapelyDeprecationWarning: Iteration over multi-part geometries is deprecated and will be removed in Shapely 2.0. Use the `geoms` property to access the constituent parts of a multi-part geometry.\n",
      "  iter(obj)  # Can iterate over it.\n",
      "/usr/local/lib/python3.10/dist-packages/pandas/core/dtypes/inference.py:384: ShapelyDeprecationWarning: __len__ for multi-part geometries is deprecated and will be removed in Shapely 2.0. Check the length of the `geoms` property instead to get the  number of parts of a multi-part geometry.\n",
      "  len(obj)  # Has a length associated with it.\n",
      "/usr/local/lib/python3.10/dist-packages/pandas/io/formats/printing.py:117: ShapelyDeprecationWarning: Iteration over multi-part geometries is deprecated and will be removed in Shapely 2.0. Use the `geoms` property to access the constituent parts of a multi-part geometry.\n",
      "  s = iter(seq)\n",
      "/usr/local/lib/python3.10/dist-packages/pandas/io/formats/printing.py:121: ShapelyDeprecationWarning: __len__ for multi-part geometries is deprecated and will be removed in Shapely 2.0. Check the length of the `geoms` property instead to get the  number of parts of a multi-part geometry.\n",
      "  for i in range(min(nitems, len(seq)))\n",
      "/usr/local/lib/python3.10/dist-packages/pandas/io/formats/printing.py:125: ShapelyDeprecationWarning: __len__ for multi-part geometries is deprecated and will be removed in Shapely 2.0. Check the length of the `geoms` property instead to get the  number of parts of a multi-part geometry.\n",
      "  if nitems < len(seq):\n",
      "/usr/local/lib/python3.10/dist-packages/pandas/core/dtypes/inference.py:383: ShapelyDeprecationWarning: Iteration over multi-part geometries is deprecated and will be removed in Shapely 2.0. Use the `geoms` property to access the constituent parts of a multi-part geometry.\n",
      "  iter(obj)  # Can iterate over it.\n",
      "/usr/local/lib/python3.10/dist-packages/pandas/core/dtypes/inference.py:384: ShapelyDeprecationWarning: __len__ for multi-part geometries is deprecated and will be removed in Shapely 2.0. Check the length of the `geoms` property instead to get the  number of parts of a multi-part geometry.\n",
      "  len(obj)  # Has a length associated with it.\n",
      "/usr/local/lib/python3.10/dist-packages/pandas/io/formats/printing.py:117: ShapelyDeprecationWarning: Iteration over multi-part geometries is deprecated and will be removed in Shapely 2.0. Use the `geoms` property to access the constituent parts of a multi-part geometry.\n",
      "  s = iter(seq)\n",
      "/usr/local/lib/python3.10/dist-packages/pandas/io/formats/printing.py:121: ShapelyDeprecationWarning: __len__ for multi-part geometries is deprecated and will be removed in Shapely 2.0. Check the length of the `geoms` property instead to get the  number of parts of a multi-part geometry.\n",
      "  for i in range(min(nitems, len(seq)))\n",
      "/usr/local/lib/python3.10/dist-packages/pandas/io/formats/printing.py:125: ShapelyDeprecationWarning: __len__ for multi-part geometries is deprecated and will be removed in Shapely 2.0. Check the length of the `geoms` property instead to get the  number of parts of a multi-part geometry.\n",
      "  if nitems < len(seq):\n"
     ]
    },
    {
     "data": {
      "text/html": [
       "<div>\n",
       "<style scoped>\n",
       "    .dataframe tbody tr th:only-of-type {\n",
       "        vertical-align: middle;\n",
       "    }\n",
       "\n",
       "    .dataframe tbody tr th {\n",
       "        vertical-align: top;\n",
       "    }\n",
       "\n",
       "    .dataframe thead th {\n",
       "        text-align: right;\n",
       "    }\n",
       "</style>\n",
       "<table border=\"1\" class=\"dataframe\">\n",
       "  <thead>\n",
       "    <tr style=\"text-align: right;\">\n",
       "      <th></th>\n",
       "      <th>a2096056-6593-46c5-b0ac-f9f48367e32c</th>\n",
       "    </tr>\n",
       "  </thead>\n",
       "  <tbody>\n",
       "    <tr>\n",
       "      <th>title</th>\n",
       "      <td>S2A_MSIL1C_20220522T012701_N0400_R074_T54SUE_2...</td>\n",
       "    </tr>\n",
       "    <tr>\n",
       "      <th>link</th>\n",
       "      <td>https://scihub.copernicus.eu/dhus/odata/v1/Pro...</td>\n",
       "    </tr>\n",
       "    <tr>\n",
       "      <th>link_alternative</th>\n",
       "      <td>https://scihub.copernicus.eu/dhus/odata/v1/Pro...</td>\n",
       "    </tr>\n",
       "    <tr>\n",
       "      <th>link_icon</th>\n",
       "      <td>https://scihub.copernicus.eu/dhus/odata/v1/Pro...</td>\n",
       "    </tr>\n",
       "    <tr>\n",
       "      <th>summary</th>\n",
       "      <td>Date: 2022-05-22T01:27:01.024Z, Instrument: MS...</td>\n",
       "    </tr>\n",
       "    <tr>\n",
       "      <th>ondemand</th>\n",
       "      <td>false</td>\n",
       "    </tr>\n",
       "    <tr>\n",
       "      <th>datatakesensingstart</th>\n",
       "      <td>2022-05-22 01:27:01.024000</td>\n",
       "    </tr>\n",
       "    <tr>\n",
       "      <th>generationdate</th>\n",
       "      <td>2022-05-22 03:15:54</td>\n",
       "    </tr>\n",
       "    <tr>\n",
       "      <th>beginposition</th>\n",
       "      <td>2022-05-22 01:27:01.024000</td>\n",
       "    </tr>\n",
       "    <tr>\n",
       "      <th>endposition</th>\n",
       "      <td>2022-05-22 01:27:01.024000</td>\n",
       "    </tr>\n",
       "    <tr>\n",
       "      <th>ingestiondate</th>\n",
       "      <td>2022-05-22 04:48:06.806000</td>\n",
       "    </tr>\n",
       "    <tr>\n",
       "      <th>orbitnumber</th>\n",
       "      <td>36107</td>\n",
       "    </tr>\n",
       "    <tr>\n",
       "      <th>relativeorbitnumber</th>\n",
       "      <td>74</td>\n",
       "    </tr>\n",
       "    <tr>\n",
       "      <th>cloudcoverpercentage</th>\n",
       "      <td>32.259757</td>\n",
       "    </tr>\n",
       "    <tr>\n",
       "      <th>sensoroperationalmode</th>\n",
       "      <td>INS-NOBS</td>\n",
       "    </tr>\n",
       "    <tr>\n",
       "      <th>level1cpdiidentifier</th>\n",
       "      <td>S2A_OPER_MSI_L1C_TL_ATOS_20220522T031554_A0361...</td>\n",
       "    </tr>\n",
       "    <tr>\n",
       "      <th>tileid</th>\n",
       "      <td>54SUE</td>\n",
       "    </tr>\n",
       "    <tr>\n",
       "      <th>hv_order_tileid</th>\n",
       "      <td>SE54U</td>\n",
       "    </tr>\n",
       "    <tr>\n",
       "      <th>format</th>\n",
       "      <td>SAFE</td>\n",
       "    </tr>\n",
       "    <tr>\n",
       "      <th>processingbaseline</th>\n",
       "      <td>04.00</td>\n",
       "    </tr>\n",
       "    <tr>\n",
       "      <th>platformname</th>\n",
       "      <td>Sentinel-2</td>\n",
       "    </tr>\n",
       "    <tr>\n",
       "      <th>filename</th>\n",
       "      <td>S2A_MSIL1C_20220522T012701_N0400_R074_T54SUE_2...</td>\n",
       "    </tr>\n",
       "    <tr>\n",
       "      <th>instrumentname</th>\n",
       "      <td>Multi-Spectral Instrument</td>\n",
       "    </tr>\n",
       "    <tr>\n",
       "      <th>instrumentshortname</th>\n",
       "      <td>MSI</td>\n",
       "    </tr>\n",
       "    <tr>\n",
       "      <th>size</th>\n",
       "      <td>819.78 MB</td>\n",
       "    </tr>\n",
       "    <tr>\n",
       "      <th>s2datatakeid</th>\n",
       "      <td>GS2A_20220522T012701_036107_N04.00</td>\n",
       "    </tr>\n",
       "    <tr>\n",
       "      <th>producttype</th>\n",
       "      <td>S2MSI1C</td>\n",
       "    </tr>\n",
       "    <tr>\n",
       "      <th>platformidentifier</th>\n",
       "      <td>2015-028A</td>\n",
       "    </tr>\n",
       "    <tr>\n",
       "      <th>orbitdirection</th>\n",
       "      <td>DESCENDING</td>\n",
       "    </tr>\n",
       "    <tr>\n",
       "      <th>platformserialidentifier</th>\n",
       "      <td>Sentinel-2A</td>\n",
       "    </tr>\n",
       "    <tr>\n",
       "      <th>processinglevel</th>\n",
       "      <td>Level-1C</td>\n",
       "    </tr>\n",
       "    <tr>\n",
       "      <th>datastripidentifier</th>\n",
       "      <td>S2A_OPER_MSI_L1C_DS_ATOS_20220522T031554_S2022...</td>\n",
       "    </tr>\n",
       "    <tr>\n",
       "      <th>granuleidentifier</th>\n",
       "      <td>S2A_OPER_MSI_L1C_TL_ATOS_20220522T031554_A0361...</td>\n",
       "    </tr>\n",
       "    <tr>\n",
       "      <th>identifier</th>\n",
       "      <td>S2A_MSIL1C_20220522T012701_N0400_R074_T54SUE_2...</td>\n",
       "    </tr>\n",
       "    <tr>\n",
       "      <th>uuid</th>\n",
       "      <td>a2096056-6593-46c5-b0ac-f9f48367e32c</td>\n",
       "    </tr>\n",
       "    <tr>\n",
       "      <th>geometry</th>\n",
       "      <td>(POLYGON ((138.80482996814663 35.1350019524111...</td>\n",
       "    </tr>\n",
       "  </tbody>\n",
       "</table>\n",
       "</div>"
      ],
      "text/plain": [
       "                                       a2096056-6593-46c5-b0ac-f9f48367e32c\n",
       "title                     S2A_MSIL1C_20220522T012701_N0400_R074_T54SUE_2...\n",
       "link                      https://scihub.copernicus.eu/dhus/odata/v1/Pro...\n",
       "link_alternative          https://scihub.copernicus.eu/dhus/odata/v1/Pro...\n",
       "link_icon                 https://scihub.copernicus.eu/dhus/odata/v1/Pro...\n",
       "summary                   Date: 2022-05-22T01:27:01.024Z, Instrument: MS...\n",
       "ondemand                                                              false\n",
       "datatakesensingstart                             2022-05-22 01:27:01.024000\n",
       "generationdate                                          2022-05-22 03:15:54\n",
       "beginposition                                    2022-05-22 01:27:01.024000\n",
       "endposition                                      2022-05-22 01:27:01.024000\n",
       "ingestiondate                                    2022-05-22 04:48:06.806000\n",
       "orbitnumber                                                           36107\n",
       "relativeorbitnumber                                                      74\n",
       "cloudcoverpercentage                                              32.259757\n",
       "sensoroperationalmode                                              INS-NOBS\n",
       "level1cpdiidentifier      S2A_OPER_MSI_L1C_TL_ATOS_20220522T031554_A0361...\n",
       "tileid                                                                54SUE\n",
       "hv_order_tileid                                                       SE54U\n",
       "format                                                                 SAFE\n",
       "processingbaseline                                                    04.00\n",
       "platformname                                                     Sentinel-2\n",
       "filename                  S2A_MSIL1C_20220522T012701_N0400_R074_T54SUE_2...\n",
       "instrumentname                                    Multi-Spectral Instrument\n",
       "instrumentshortname                                                     MSI\n",
       "size                                                              819.78 MB\n",
       "s2datatakeid                             GS2A_20220522T012701_036107_N04.00\n",
       "producttype                                                         S2MSI1C\n",
       "platformidentifier                                                2015-028A\n",
       "orbitdirection                                                   DESCENDING\n",
       "platformserialidentifier                                        Sentinel-2A\n",
       "processinglevel                                                    Level-1C\n",
       "datastripidentifier       S2A_OPER_MSI_L1C_DS_ATOS_20220522T031554_S2022...\n",
       "granuleidentifier         S2A_OPER_MSI_L1C_TL_ATOS_20220522T031554_A0361...\n",
       "identifier                S2A_MSIL1C_20220522T012701_N0400_R074_T54SUE_2...\n",
       "uuid                                   a2096056-6593-46c5-b0ac-f9f48367e32c\n",
       "geometry                  (POLYGON ((138.80482996814663 35.1350019524111..."
      ]
     },
     "execution_count": 94,
     "metadata": {},
     "output_type": "execute_result"
    }
   ],
   "source": [
    "products_gdf_sorted[:1].T"
   ]
  },
  {
   "cell_type": "code",
   "execution_count": 95,
   "id": "24165eb5-9e0b-4438-9b6e-b7b04c5e7b43",
   "metadata": {},
   "outputs": [
    {
     "data": {
      "text/plain": [
       "a2096056-6593-46c5-b0ac-f9f48367e32c    a2096056-6593-46c5-b0ac-f9f48367e32c\n",
       "Name: uuid, dtype: object"
      ]
     },
     "execution_count": 95,
     "metadata": {},
     "output_type": "execute_result"
    }
   ],
   "source": [
    "products_gdf_sorted.uuid"
   ]
  },
  {
   "cell_type": "markdown",
   "id": "3b0ab2cf-7a28-4f08-a5d8-d00cef2a22f2",
   "metadata": {},
   "source": [
    "## データをダウンロード"
   ]
  },
  {
   "cell_type": "markdown",
   "id": "0ddac712-7d8d-4e9b-90ec-56ea97dd7cd1",
   "metadata": {},
   "source": [
    "★ 下記は時間がかかるので注意、１ファイル0.5GB程度ある"
   ]
  },
  {
   "cell_type": "code",
   "execution_count": 96,
   "id": "4947a23e-0400-437d-9b15-a58bc8892116",
   "metadata": {},
   "outputs": [
    {
     "name": "stderr",
     "output_type": "stream",
     "text": [
      "Downloading S2A_MSIL1C_20220522T012701_N0400_R074_T54SUE_20220522T031554.zip: 100% 860M/860M [03:03<00:00, 4.68MB/s] \n",
      "                                                         \r"
     ]
    }
   ],
   "source": [
    "# 画像のダウンロード\n",
    "for uuid in products_gdf_sorted.uuid:\n",
    "    api.download(uuid)"
   ]
  },
  {
   "cell_type": "markdown",
   "id": "2c66431c-146a-4e91-9772-53c189497c6f",
   "metadata": {},
   "source": [
    "## データの解凍"
   ]
  },
  {
   "cell_type": "code",
   "execution_count": 31,
   "id": "0c57103f-d265-4377-aea0-2a75b5c75c75",
   "metadata": {},
   "outputs": [
    {
     "data": {
      "text/plain": [
       "dcb7ea60-2ddd-410b-882d-b1c84ae24362    S2A_MSIL1C_20220521T015701_N0400_R060_T52SEB_2...\n",
       "e196ab6a-11cc-40a4-aa13-bb8d84dc4ae9    S2B_MSIL1C_20220506T015649_N0400_R060_T52SEB_2...\n",
       "f39a5f6f-570d-4a84-a5c9-ccbba04b38ed    S2B_MSIL1C_20220516T015649_N0400_R060_T52SEB_2...\n",
       "Name: title, dtype: object"
      ]
     },
     "execution_count": 31,
     "metadata": {},
     "output_type": "execute_result"
    }
   ],
   "source": [
    "product_titles = products_gdf_sorted[\"title\"]\n",
    "product_titles"
   ]
  },
  {
   "cell_type": "code",
   "execution_count": 32,
   "id": "f7a856f6-caea-4bed-9105-b939b413b12e",
   "metadata": {},
   "outputs": [],
   "source": [
    "# ファイルを解凍する\n",
    "import zipfile\n",
    "\n",
    "for filename in product_titles:\n",
    "    with zipfile.ZipFile(filename+'.zip') as zf:\n",
    "        zf.extractall()"
   ]
  },
  {
   "cell_type": "code",
   "execution_count": 36,
   "id": "5aeda329-e2c5-4cd6-82dc-1aa777f845d0",
   "metadata": {},
   "outputs": [
    {
     "name": "stdout",
     "output_type": "stream",
     "text": [
      "\u001b[01;34mS2A_MSIL1C_20220521T015701_N0400_R060_T52SEB_20220521T041602.SAFE\u001b[0m\n",
      "├── \u001b[01;34mAUX_DATA\u001b[0m\n",
      "├── \u001b[01;34mDATASTRIP\u001b[0m\n",
      "│   └── \u001b[01;34mDS_ATOS_20220521T041602_S20220521T020231\u001b[0m\n",
      "│       ├── \u001b[00mMTD_DS.xml\u001b[0m\n",
      "│       └── \u001b[01;34mQI_DATA\u001b[0m\n",
      "│           ├── \u001b[00mFORMAT_CORRECTNESS.xml\u001b[0m\n",
      "│           ├── \u001b[00mGENERAL_QUALITY.xml\u001b[0m\n",
      "│           ├── \u001b[00mGEOMETRIC_QUALITY.xml\u001b[0m\n",
      "│           ├── \u001b[00mRADIOMETRIC_QUALITY.xml\u001b[0m\n",
      "│           └── \u001b[00mSENSOR_QUALITY.xml\u001b[0m\n",
      "├── \u001b[01;34mGRANULE\u001b[0m\n",
      "│   └── \u001b[01;34mL1C_T52SEB_A036093_20220521T020231\u001b[0m\n",
      "│       ├── \u001b[01;34mAUX_DATA\u001b[0m\n",
      "│       │   ├── \u001b[00mAUX_CAMSFO\u001b[0m\n",
      "│       │   └── \u001b[00mAUX_ECMWFT\u001b[0m\n",
      "│       ├── \u001b[01;34mIMG_DATA\u001b[0m\n",
      "│       │   ├── \u001b[00mT52SEB_20220521T015701_B01.jp2\u001b[0m\n",
      "│       │   ├── \u001b[00mT52SEB_20220521T015701_B02.jp2\u001b[0m\n",
      "│       │   ├── \u001b[00mT52SEB_20220521T015701_B03.jp2\u001b[0m\n",
      "│       │   ├── \u001b[00mT52SEB_20220521T015701_B04.jp2\u001b[0m\n",
      "│       │   ├── \u001b[00mT52SEB_20220521T015701_B05.jp2\u001b[0m\n",
      "│       │   ├── \u001b[00mT52SEB_20220521T015701_B06.jp2\u001b[0m\n",
      "│       │   ├── \u001b[00mT52SEB_20220521T015701_B07.jp2\u001b[0m\n",
      "│       │   ├── \u001b[00mT52SEB_20220521T015701_B08.jp2\u001b[0m\n",
      "│       │   ├── \u001b[00mT52SEB_20220521T015701_B09.jp2\u001b[0m\n",
      "│       │   ├── \u001b[00mT52SEB_20220521T015701_B10.jp2\u001b[0m\n",
      "│       │   ├── \u001b[00mT52SEB_20220521T015701_B11.jp2\u001b[0m\n",
      "│       │   ├── \u001b[00mT52SEB_20220521T015701_B12.jp2\u001b[0m\n",
      "│       │   ├── \u001b[00mT52SEB_20220521T015701_B8A.jp2\u001b[0m\n",
      "│       │   └── \u001b[00mT52SEB_20220521T015701_TCI.jp2\u001b[0m\n",
      "│       ├── \u001b[00mMTD_TL.xml\u001b[0m\n",
      "│       └── \u001b[01;34mQI_DATA\u001b[0m\n",
      "│           ├── \u001b[00mFORMAT_CORRECTNESS.xml\u001b[0m\n",
      "│           ├── \u001b[00mGENERAL_QUALITY.xml\u001b[0m\n",
      "│           ├── \u001b[00mGEOMETRIC_QUALITY.xml\u001b[0m\n",
      "│           ├── \u001b[00mMSK_CLASSI_B00.jp2\u001b[0m\n",
      "│           ├── \u001b[00mMSK_DETFOO_B01.jp2\u001b[0m\n",
      "│           ├── \u001b[00mMSK_DETFOO_B02.jp2\u001b[0m\n",
      "│           ├── \u001b[00mMSK_DETFOO_B03.jp2\u001b[0m\n",
      "│           ├── \u001b[00mMSK_DETFOO_B04.jp2\u001b[0m\n",
      "│           ├── \u001b[00mMSK_DETFOO_B05.jp2\u001b[0m\n",
      "│           ├── \u001b[00mMSK_DETFOO_B06.jp2\u001b[0m\n",
      "│           ├── \u001b[00mMSK_DETFOO_B07.jp2\u001b[0m\n",
      "│           ├── \u001b[00mMSK_DETFOO_B08.jp2\u001b[0m\n",
      "│           ├── \u001b[00mMSK_DETFOO_B09.jp2\u001b[0m\n",
      "│           ├── \u001b[00mMSK_DETFOO_B10.jp2\u001b[0m\n",
      "│           ├── \u001b[00mMSK_DETFOO_B11.jp2\u001b[0m\n",
      "│           ├── \u001b[00mMSK_DETFOO_B12.jp2\u001b[0m\n",
      "│           ├── \u001b[00mMSK_DETFOO_B8A.jp2\u001b[0m\n",
      "│           ├── \u001b[00mMSK_QUALIT_B01.jp2\u001b[0m\n",
      "│           ├── \u001b[00mMSK_QUALIT_B02.jp2\u001b[0m\n",
      "│           ├── \u001b[00mMSK_QUALIT_B03.jp2\u001b[0m\n",
      "│           ├── \u001b[00mMSK_QUALIT_B04.jp2\u001b[0m\n",
      "│           ├── \u001b[00mMSK_QUALIT_B05.jp2\u001b[0m\n",
      "│           ├── \u001b[00mMSK_QUALIT_B06.jp2\u001b[0m\n",
      "│           ├── \u001b[00mMSK_QUALIT_B07.jp2\u001b[0m\n",
      "│           ├── \u001b[00mMSK_QUALIT_B08.jp2\u001b[0m\n",
      "│           ├── \u001b[00mMSK_QUALIT_B09.jp2\u001b[0m\n",
      "│           ├── \u001b[00mMSK_QUALIT_B10.jp2\u001b[0m\n",
      "│           ├── \u001b[00mMSK_QUALIT_B11.jp2\u001b[0m\n",
      "│           ├── \u001b[00mMSK_QUALIT_B12.jp2\u001b[0m\n",
      "│           ├── \u001b[00mMSK_QUALIT_B8A.jp2\u001b[0m\n",
      "│           ├── \u001b[00mSENSOR_QUALITY.xml\u001b[0m\n",
      "│           └── \u001b[00mT52SEB_20220521T015701_PVI.jp2\u001b[0m\n",
      "├── \u001b[01;34mHTML\u001b[0m\n",
      "│   ├── \u001b[00mUserProduct_index.html\u001b[0m\n",
      "│   ├── \u001b[00mUserProduct_index.xsl\u001b[0m\n",
      "│   ├── \u001b[00mbanner_1.png\u001b[0m\n",
      "│   ├── \u001b[00mbanner_2.png\u001b[0m\n",
      "│   ├── \u001b[00mbanner_3.png\u001b[0m\n",
      "│   └── \u001b[01;35mstar_bg.jpg\u001b[0m\n",
      "├── \u001b[00mINSPIRE.xml\u001b[0m\n",
      "├── \u001b[00mMTD_MSIL1C.xml\u001b[0m\n",
      "├── \u001b[00mmanifest.safe\u001b[0m\n",
      "└── \u001b[01;34mrep_info\u001b[0m\n",
      "    └── \u001b[00mS2_User_Product_Level-1C_Metadata.xsd\u001b[0m\n",
      "\n",
      "11 directories, 65 files\n"
     ]
    }
   ],
   "source": [
    "!tree S2A_MSIL1C_20220521T015701_N0400_R060_T52SEB_20220521T041602.SAFE"
   ]
  },
  {
   "cell_type": "code",
   "execution_count": null,
   "id": "74b9bc4b-8768-438b-b06f-a1a682820435",
   "metadata": {},
   "outputs": [],
   "source": []
  },
  {
   "cell_type": "markdown",
   "id": "55fbf81a-79a5-44a2-b4d3-228ef9d1317a",
   "metadata": {},
   "source": [
    "# 可視化"
   ]
  },
  {
   "cell_type": "markdown",
   "id": "dd2bc4de-e3cd-481c-aef3-4b192d8eb47b",
   "metadata": {},
   "source": [
    "１画像だけ可視化"
   ]
  },
  {
   "cell_type": "markdown",
   "id": "2ebb39a3-cf9c-426c-90ed-c3fe0ce401ac",
   "metadata": {},
   "source": [
    "## 関心域の画像抽出"
   ]
  },
  {
   "cell_type": "code",
   "execution_count": 39,
   "id": "5a4b434f-c8f4-4765-b465-15b65a63f681",
   "metadata": {},
   "outputs": [],
   "source": [
    "# 適宜見たい画像のタイトルを入力する\n",
    "product_title = \"S2A_MSIL1C_20220521T015701_N0400_R060_T52SEB_20220521T041602\""
   ]
  },
  {
   "cell_type": "code",
   "execution_count": 40,
   "id": "633d3cad-ca32-4924-9199-c2f7e699f2ae",
   "metadata": {},
   "outputs": [],
   "source": [
    "path = product_title + '.SAFE/GRANULE'\n",
    "files = os.listdir(path)\n",
    "\n",
    "pathA = product_title + '.SAFE/GRANULE/' + str(files[0])\n",
    "files2 = os.listdir(pathA)\n",
    "\n",
    "pathB = product_title + '.SAFE/GRANULE/' + str(files[0]) +'/' + str(files2[1])\n",
    "files3 = os.listdir(pathB)"
   ]
  },
  {
   "cell_type": "code",
   "execution_count": 41,
   "id": "7021bbbe-2ae6-4785-a5eb-67793a23731e",
   "metadata": {},
   "outputs": [
    {
     "data": {
      "text/plain": [
       "['L1C_T52SEB_A036093_20220521T020231']"
      ]
     },
     "execution_count": 41,
     "metadata": {},
     "output_type": "execute_result"
    }
   ],
   "source": [
    "files"
   ]
  },
  {
   "cell_type": "code",
   "execution_count": 42,
   "id": "d6033b39-4f21-4f5d-8551-2bbd7a15d883",
   "metadata": {},
   "outputs": [
    {
     "data": {
      "text/plain": [
       "['AUX_DATA', 'IMG_DATA', 'MTD_TL.xml', 'QI_DATA']"
      ]
     },
     "execution_count": 42,
     "metadata": {},
     "output_type": "execute_result"
    }
   ],
   "source": [
    "files2"
   ]
  },
  {
   "cell_type": "code",
   "execution_count": 56,
   "id": "7f304e21-1ace-4bb6-be48-1bc68f40851b",
   "metadata": {},
   "outputs": [
    {
     "data": {
      "text/plain": [
       "['T52SEB_20220521T015701_B01.jp2',\n",
       " 'T52SEB_20220521T015701_B02.jp2',\n",
       " 'T52SEB_20220521T015701_B03.jp2',\n",
       " 'T52SEB_20220521T015701_B04.jp2',\n",
       " 'T52SEB_20220521T015701_B05.jp2',\n",
       " 'T52SEB_20220521T015701_B06.jp2',\n",
       " 'T52SEB_20220521T015701_B07.jp2',\n",
       " 'T52SEB_20220521T015701_B08.jp2',\n",
       " 'T52SEB_20220521T015701_B09.jp2',\n",
       " 'T52SEB_20220521T015701_B10.jp2',\n",
       " 'T52SEB_20220521T015701_B11.jp2',\n",
       " 'T52SEB_20220521T015701_B12.jp2',\n",
       " 'T52SEB_20220521T015701_B8A.jp2',\n",
       " 'T52SEB_20220521T015701_TCI.jp2']"
      ]
     },
     "execution_count": 56,
     "metadata": {},
     "output_type": "execute_result"
    }
   ],
   "source": [
    "files3"
   ]
  },
  {
   "cell_type": "markdown",
   "id": "ff1145ff-0a16-4206-83cb-e8e4f66b556c",
   "metadata": {},
   "source": [
    "バンド2をRedに、バンド3をGreenに、バンド4をBlueに割り当てる"
   ]
  },
  {
   "cell_type": "code",
   "execution_count": 57,
   "id": "46084d27-176f-4c67-b8e7-6a1d11a09e33",
   "metadata": {},
   "outputs": [],
   "source": [
    "path_b2 = str(product_title) + '.SAFE/GRANULE/' + str(files[0]) + '/' + str(files2[1]) + '/' + str(files3[0][0:23] +'B02.jp2')\n",
    "path_b3 = str(product_title) + '.SAFE/GRANULE/' + str(files[0]) + '/' + str(files2[1]) + '/' + str(files3[0][0:23] +'B03.jp2')\n",
    "path_b4 = str(product_title) + '.SAFE/GRANULE/' + str(files[0]) + '/' + str(files2[1]) + '/' + str(files3[0][0:23] +'B04.jp2')"
   ]
  },
  {
   "cell_type": "code",
   "execution_count": 58,
   "id": "08b34d4d-70f4-415a-ad25-d09e8da5dd00",
   "metadata": {},
   "outputs": [],
   "source": [
    "b4 = rio.open(path_b4)\n",
    "b3 = rio.open(path_b3)\n",
    "b2 = rio.open(path_b2)"
   ]
  },
  {
   "cell_type": "code",
   "execution_count": 59,
   "id": "d117c83c-4778-43f2-a4d2-8671aa48a3cc",
   "metadata": {},
   "outputs": [
    {
     "data": {
      "text/plain": [
       "(1, 10980, 10980, CRS.from_epsg(32652))"
      ]
     },
     "execution_count": 59,
     "metadata": {},
     "output_type": "execute_result"
    }
   ],
   "source": [
    "# ピクセル数と座標系を表示\n",
    "b4.count, b4.width, b4.height, b4.crs"
   ]
  },
  {
   "cell_type": "markdown",
   "id": "3817c5ac-2bbc-4d16-a55e-b58f0014c631",
   "metadata": {},
   "source": [
    "サイズが 1, 10980, 10980 であり、座標系が CRS.from_epsg(32652)であることがわかる\n",
    "\n",
    "サイズの数字はピクセル数を表すため、これと解像度をかけることで対象データの範囲がわかる\n",
    "\n",
    "→ Sentinel2は解像度10mなので、10980 * 10 ≒ 100km となる"
   ]
  },
  {
   "cell_type": "code",
   "execution_count": 60,
   "id": "ffaf782b-037c-4170-8af6-ab274e4fafdd",
   "metadata": {},
   "outputs": [
    {
     "data": {
      "text/plain": [
       "{'driver': 'JP2OpenJPEG',\n",
       " 'dtype': 'uint16',\n",
       " 'nodata': None,\n",
       " 'width': 10980,\n",
       " 'height': 10980,\n",
       " 'count': 1,\n",
       " 'crs': CRS.from_epsg(32652),\n",
       " 'transform': Affine(10.0, 0.0, 499980.0,\n",
       "        0.0, -10.0, 3700020.0)}"
      ]
     },
     "execution_count": 60,
     "metadata": {},
     "output_type": "execute_result"
    }
   ],
   "source": [
    "b4.meta"
   ]
  },
  {
   "cell_type": "code",
   "execution_count": 61,
   "id": "7a0b14bd-6fcd-404e-9f21-ebf4adb74d7f",
   "metadata": {},
   "outputs": [
    {
     "data": {
      "image/png": "[encoded data removed]",
      "text/plain": [
       "<Figure size 720x720 with 1 Axes>"
      ]
     },
     "metadata": {
      "needs_background": "light"
     },
     "output_type": "display_data"
    }
   ],
   "source": [
    "# 試しにband4の画像を描画\n",
    "fig, ax = plt.subplots(1, figsize=(10, 10))\n",
    "show(b4, ax=ax)\n",
    "plt.show()"
   ]
  },
  {
   "cell_type": "markdown",
   "id": "dc491004-2a69-4656-bef4-8abe728506f9",
   "metadata": {},
   "source": [
    "## GeoJsonで指定した範囲だけをTrue Colorの画像で表示"
   ]
  },
  {
   "cell_type": "markdown",
   "id": "59e6160e-69d7-4772-9aab-8ef68821f03a",
   "metadata": {},
   "source": [
    "★★★時間かかるので注意"
   ]
  },
  {
   "cell_type": "code",
   "execution_count": 62,
   "id": "cd017637-ed6d-45bf-9851-77e267777316",
   "metadata": {},
   "outputs": [],
   "source": [
    "# 読み込んだ各バンドのデータを元にTiff画像を作成\n",
    "with rio.open(str(objname) +'.tiff','w',driver='Gtiff', width=b4.width, height=b4.height, \n",
    "              count=3,crs=b4.crs,transform=b4.transform, dtype=b4.dtypes[0]) as rgb:\n",
    "    rgb.write(b2.read(1),3) \n",
    "    rgb.write(b3.read(1),2) \n",
    "    rgb.write(b4.read(1),1) \n",
    "    rgb.close()"
   ]
  },
  {
   "cell_type": "code",
   "execution_count": 65,
   "id": "51087b26-7a84-4168-9ca2-336e68574365",
   "metadata": {},
   "outputs": [
    {
     "data": {
      "text/plain": [
       "CRS.from_epsg(32652)"
      ]
     },
     "execution_count": 65,
     "metadata": {},
     "output_type": "execute_result"
    }
   ],
   "source": [
    "RGB_tokyo =rio.open(str(objname) +'.tiff')\n",
    "RGB_tokyo.crs"
   ]
  },
  {
   "cell_type": "code",
   "execution_count": 66,
   "id": "075c6c1f-0733-4c5e-b259-578182816503",
   "metadata": {},
   "outputs": [
    {
     "data": {
      "text/html": [
       "<div>\n",
       "<style scoped>\n",
       "    .dataframe tbody tr th:only-of-type {\n",
       "        vertical-align: middle;\n",
       "    }\n",
       "\n",
       "    .dataframe tbody tr th {\n",
       "        vertical-align: top;\n",
       "    }\n",
       "\n",
       "    .dataframe thead th {\n",
       "        text-align: right;\n",
       "    }\n",
       "</style>\n",
       "<table border=\"1\" class=\"dataframe\">\n",
       "  <thead>\n",
       "    <tr style=\"text-align: right;\">\n",
       "      <th></th>\n",
       "      <th>geometry</th>\n",
       "    </tr>\n",
       "  </thead>\n",
       "  <tbody>\n",
       "    <tr>\n",
       "      <th>0</th>\n",
       "      <td>POLYGON ((130.10360 32.85811, 130.11184 32.594...</td>\n",
       "    </tr>\n",
       "  </tbody>\n",
       "</table>\n",
       "</div>"
      ],
      "text/plain": [
       "                                            geometry\n",
       "0  POLYGON ((130.10360 32.85811, 130.11184 32.594..."
      ]
     },
     "execution_count": 66,
     "metadata": {},
     "output_type": "execute_result"
    }
   ],
   "source": [
    "# データ取得時に作成したポリゴンデータを読み込み\n",
    "nReserve_geo = gpd.read_file(str(objname) +'.geojson')\n",
    "nReserve_geo"
   ]
  },
  {
   "cell_type": "code",
   "execution_count": 67,
   "id": "5d69dba8-84cb-4a47-84fb-10e359a6f6ba",
   "metadata": {},
   "outputs": [
    {
     "data": {
      "image/svg+xml": [
       "<svg xmlns=\"http://www.w3.org/2000/svg\" xmlns:xlink=\"http://www.w3.org/1999/xlink\" width=\"100.0\" height=\"100.0\" viewBox=\"130.09214036 32.57861736 0.3058142799999928 0.3094102799999945\" preserveAspectRatio=\"xMinYMin meet\"><g transform=\"matrix(1,0,0,-1,0,65.466645)\"><path fill-rule=\"evenodd\" fill=\"#66cc99\" stroke=\"#555555\" stroke-width=\"0.00618820559999989\" opacity=\"0.6\" d=\"M 130.1036,32.858112 L 130.11184,32.594705 L 130.383748,32.590077 L 130.386495,32.876568 L 130.1036,32.858112 z\" /></g></svg>"
      ],
      "text/plain": [
       "<shapely.geometry.polygon.Polygon at 0xffff7aea0ca0>"
      ]
     },
     "execution_count": 67,
     "metadata": {},
     "output_type": "execute_result"
    }
   ],
   "source": [
    "# 形を確認\n",
    "nReserve_geo[\"geometry\"][0]"
   ]
  },
  {
   "cell_type": "code",
   "execution_count": 68,
   "id": "bdda1f63-8f3c-4e29-9301-ee613a05e39a",
   "metadata": {},
   "outputs": [
    {
     "name": "stderr",
     "output_type": "stream",
     "text": [
      "/usr/local/lib/python3.10/dist-packages/pyproj/crs/crs.py:130: FutureWarning: '+init=<authority>:<code>' syntax is deprecated. '<authority>:<code>' is the preferred initialization method. When making the change, be mindful of axis order changes: https://pyproj4.github.io/pyproj/stable/gotchas.html#axis-order-changes-in-proj-6\n",
      "  in_crs_string = _prepare_from_proj_string(in_crs_string)\n"
     ]
    },
    {
     "data": {
      "text/html": [
       "<div>\n",
       "<style scoped>\n",
       "    .dataframe tbody tr th:only-of-type {\n",
       "        vertical-align: middle;\n",
       "    }\n",
       "\n",
       "    .dataframe tbody tr th {\n",
       "        vertical-align: top;\n",
       "    }\n",
       "\n",
       "    .dataframe thead th {\n",
       "        text-align: right;\n",
       "    }\n",
       "</style>\n",
       "<table border=\"1\" class=\"dataframe\">\n",
       "  <thead>\n",
       "    <tr style=\"text-align: right;\">\n",
       "      <th></th>\n",
       "      <th>geometry</th>\n",
       "    </tr>\n",
       "  </thead>\n",
       "  <tbody>\n",
       "    <tr>\n",
       "      <th>0</th>\n",
       "      <td>POLYGON ((603261.057 3636097.011, 604338.495 3...</td>\n",
       "    </tr>\n",
       "  </tbody>\n",
       "</table>\n",
       "</div>"
      ],
      "text/plain": [
       "                                            geometry\n",
       "0  POLYGON ((603261.057 3636097.011, 604338.495 3..."
      ]
     },
     "execution_count": 68,
     "metadata": {},
     "output_type": "execute_result"
    }
   ],
   "source": [
    "# CRS変換\n",
    "epsg = b4.crs\n",
    "nReserve_proj = nReserve_geo.to_crs({'init': epsg})\n",
    "nReserve_proj"
   ]
  },
  {
   "cell_type": "code",
   "execution_count": 69,
   "id": "12aa5deb-548c-428e-b057-e65814c661c6",
   "metadata": {},
   "outputs": [
    {
     "data": {
      "image/svg+xml": [
       "<svg xmlns=\"http://www.w3.org/2000/svg\" xmlns:xlink=\"http://www.w3.org/1999/xlink\" width=\"300\" height=\"300\" viewBox=\"601990.4049145675 3605418.433649433 29143.99606796808 34307.61885051429\" preserveAspectRatio=\"xMinYMin meet\"><g transform=\"matrix(1,0,0,-1,0,7245144.48614938)\"><path fill-rule=\"evenodd\" fill=\"#66cc99\" stroke=\"#555555\" stroke-width=\"228.71745900342862\" opacity=\"0.6\" d=\"M 603261.0574645866,3636097.0112820934 L 604338.4947975524,3606902.7512457785 L 629863.7484325165,3606689.0861994517 L 629705.8718030294,3638455.3999499283 L 603261.0574645866,3636097.0112820934 z\" /></g></svg>"
      ],
      "text/plain": [
       "<shapely.geometry.polygon.Polygon at 0xffff78ad6890>"
      ]
     },
     "execution_count": 69,
     "metadata": {},
     "output_type": "execute_result"
    }
   ],
   "source": [
    "nReserve_proj[\"geometry\"][0]"
   ]
  },
  {
   "cell_type": "code",
   "execution_count": 70,
   "id": "23b5139f-872f-4fbf-8d39-43d2feec78ee",
   "metadata": {},
   "outputs": [],
   "source": [
    "# Tiff画像をgeojsonデータをもとにマスク（切り出し）\n",
    "with rio.open(str(objname) +'.tiff') as src:\n",
    "    out_image, out_transform = rio.mask.mask(src, nReserve_proj.geometry,crop=True)\n",
    "    out_meta = src.meta.copy()\n",
    "    out_meta.update({\"driver\": \"GTiff\",\n",
    "                 \"height\": out_image.shape[1],\n",
    "                 \"width\": out_image.shape[2],\n",
    "                 \"transform\": out_transform})"
   ]
  },
  {
   "cell_type": "code",
   "execution_count": 71,
   "id": "24a61890-2828-4f7b-8cf5-4a395b7c4088",
   "metadata": {},
   "outputs": [
    {
     "data": {
      "text/plain": [
       "array([[[0, 0, 0, ..., 0, 0, 0],\n",
       "        [0, 0, 0, ..., 0, 0, 0],\n",
       "        [0, 0, 0, ..., 0, 0, 0],\n",
       "        ...,\n",
       "        [0, 0, 0, ..., 0, 0, 0],\n",
       "        [0, 0, 0, ..., 0, 0, 0],\n",
       "        [0, 0, 0, ..., 0, 0, 0]],\n",
       "\n",
       "       [[0, 0, 0, ..., 0, 0, 0],\n",
       "        [0, 0, 0, ..., 0, 0, 0],\n",
       "        [0, 0, 0, ..., 0, 0, 0],\n",
       "        ...,\n",
       "        [0, 0, 0, ..., 0, 0, 0],\n",
       "        [0, 0, 0, ..., 0, 0, 0],\n",
       "        [0, 0, 0, ..., 0, 0, 0]],\n",
       "\n",
       "       [[0, 0, 0, ..., 0, 0, 0],\n",
       "        [0, 0, 0, ..., 0, 0, 0],\n",
       "        [0, 0, 0, ..., 0, 0, 0],\n",
       "        ...,\n",
       "        [0, 0, 0, ..., 0, 0, 0],\n",
       "        [0, 0, 0, ..., 0, 0, 0],\n",
       "        [0, 0, 0, ..., 0, 0, 0]]], dtype=uint16)"
      ]
     },
     "execution_count": 71,
     "metadata": {},
     "output_type": "execute_result"
    }
   ],
   "source": [
    "out_image"
   ]
  },
  {
   "cell_type": "code",
   "execution_count": 72,
   "id": "db822685-7557-4b2d-92e8-d3722c19944a",
   "metadata": {},
   "outputs": [
    {
     "data": {
      "text/plain": [
       "{'driver': 'GTiff',\n",
       " 'dtype': 'uint16',\n",
       " 'nodata': None,\n",
       " 'width': 652,\n",
       " 'height': 3178,\n",
       " 'count': 3,\n",
       " 'crs': CRS.from_epsg(32652),\n",
       " 'transform': Affine(10.0, 0.0, 603260.0,\n",
       "        0.0, -10.0, 3638460.0)}"
      ]
     },
     "execution_count": 72,
     "metadata": {},
     "output_type": "execute_result"
    }
   ],
   "source": [
    "out_meta"
   ]
  },
  {
   "cell_type": "code",
   "execution_count": 73,
   "id": "6dc27868-501c-4274-bb1e-5a1855769a88",
   "metadata": {},
   "outputs": [],
   "source": [
    "# マスクしたデータを保存\n",
    "with rasterio.open('Masked_' +str(objname) +'.tif', \"w\", **out_meta) as dest:\n",
    "    dest.write(out_image)"
   ]
  },
  {
   "cell_type": "code",
   "execution_count": 74,
   "id": "2a4cdd6c-0efe-4746-afbf-9bd60121997c",
   "metadata": {},
   "outputs": [
    {
     "name": "stderr",
     "output_type": "stream",
     "text": [
      "Clipping input data to the valid range for imshow with RGB data ([0..1] for floats or [0..255] for integers).\n"
     ]
    },
    {
     "data": {
      "image/png": "[encoded data removed]",
      "text/plain": [
       "<Figure size 720x720 with 1 Axes>"
      ]
     },
     "metadata": {
      "needs_background": "light"
     },
     "output_type": "display_data"
    },
    {
     "data": {
      "text/plain": [
       "<function matplotlib.pyplot.show(close=None, block=None)>"
      ]
     },
     "execution_count": 74,
     "metadata": {},
     "output_type": "execute_result"
    }
   ],
   "source": [
    "msk = rio.open(r'Masked_' +str(objname) +'.tif')\n",
    "fig, ax = plt.subplots(1, figsize=(10, 10))\n",
    "show(msk.read([1,2,3]))\n",
    "plt.show"
   ]
  },
  {
   "cell_type": "markdown",
   "id": "949429d0-0e37-4d09-95b8-5559e255c0bc",
   "metadata": {},
   "source": [
    "### 見た目を人間の目でも理解できるように変換し、jpgファイルとして保存"
   ]
  },
  {
   "cell_type": "code",
   "execution_count": 75,
   "id": "6cdb99f3-45f3-4e47-b1c5-e1b6226b16f5",
   "metadata": {},
   "outputs": [
    {
     "data": {
      "image/png": "[encoded data removed]",
      "text/plain": [
       "<PIL.JpegImagePlugin.JpegImageFile image mode=RGB size=652x3178>"
      ]
     },
     "execution_count": 75,
     "metadata": {},
     "output_type": "execute_result"
    }
   ],
   "source": [
    "from osgeo import gdal\n",
    "\n",
    "scale = '-scale 0 250 0 30'\n",
    "options_list = [\n",
    "    '-ot Byte',\n",
    "    '-of JPEG',\n",
    "    scale\n",
    "] \n",
    "options_string = \" \".join(options_list)\n",
    "\n",
    "gdal.Translate('Masked_' +str(objname) +'.jpg',\n",
    "               'Masked_' +str(objname) +'.tif',\n",
    "               options=options_string)\n",
    "from PIL import Image\n",
    "im = Image.open('Masked_' +str(objname) +'.jpg')\n",
    "im"
   ]
  },
  {
   "cell_type": "code",
   "execution_count": null,
   "id": "6695d605-2108-46d2-a8fe-a4a18518b063",
   "metadata": {},
   "outputs": [],
   "source": []
  }
 ],
 "metadata": {
  "kernelspec": {
   "display_name": "Python 3 (ipykernel)",
   "language": "python",
   "name": "python3"
  },
  "language_info": {
   "codemirror_mode": {
    "name": "ipython",
    "version": 3
   },
   "file_extension": ".py",
   "mimetype": "text/x-python",
   "name": "python",
   "nbconvert_exporter": "python",
   "pygments_lexer": "ipython3",
   "version": "3.10.4"
  },
  "vscode": {
   "interpreter": {
    "hash": "28412b9011f38a10e4f48c0496cdaf27b91294878de1b8d1b8a1fb0a172acf79"
   }
  }
 },
 "nbformat": 4,
 "nbformat_minor": 5
}
